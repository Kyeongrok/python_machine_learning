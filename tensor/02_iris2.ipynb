{
 "metadata": {
  "language_info": {
   "codemirror_mode": {
    "name": "ipython",
    "version": 3
   },
   "file_extension": ".py",
   "mimetype": "text/x-python",
   "name": "python",
   "nbconvert_exporter": "python",
   "pygments_lexer": "ipython3",
   "version": "3.7.9-final"
  },
  "orig_nbformat": 2,
  "kernelspec": {
   "name": "python3",
   "language": "python",
   "display_name": "Python 3"
  }
 },
 "nbformat": 4,
 "nbformat_minor": 2,
 "cells": [
  {
   "cell_type": "code",
   "execution_count": 7,
   "metadata": {},
   "outputs": [],
   "source": [
    "import os\n",
    "import matplotlib.pyplot as plt\n",
    "import tensorflow as tf"
   ]
  },
  {
   "cell_type": "code",
   "execution_count": 4,
   "metadata": {},
   "outputs": [
    {
     "output_type": "stream",
     "name": "stdout",
     "text": [
      "텐서플로 버전: 2.4.1\n즉시 실행: True\n"
     ]
    }
   ],
   "source": [
    "print(\"텐서플로 버전: {}\".format(tf.__version__))\n",
    "print(\"즉시 실행: {}\".format(tf.executing_eagerly()))"
   ]
  },
  {
   "cell_type": "code",
   "execution_count": 5,
   "metadata": {},
   "outputs": [
    {
     "output_type": "stream",
     "name": "stdout",
     "text": [
      "데이터셋이 복사된 위치: C:\\Users\\X0122190\\.keras\\datasets\\iris_training.csv\n"
     ]
    }
   ],
   "source": [
    "train_dataset_url = \"https://storage.googleapis.com/download.tensorflow.org/data/iris_training.csv\"\n",
    "\n",
    "train_dataset_fp = tf.keras.utils.get_file(fname=os.path.basename(train_dataset_url),\n",
    "                                           origin=train_dataset_url)\n",
    "\n",
    "print(\"데이터셋이 복사된 위치: {}\".format(train_dataset_fp))"
   ]
  },
  {
   "cell_type": "code",
   "execution_count": 6,
   "metadata": {},
   "outputs": [
    {
     "output_type": "stream",
     "name": "stdout",
     "text": [
      "특성: ['sepal_length', 'sepal_width', 'petal_length', 'petal_width']\n레이블: species\n"
     ]
    }
   ],
   "source": [
    "# CSV 파일안에서 컬럼의 순서\n",
    "column_names = ['sepal_length', 'sepal_width', 'petal_length', 'petal_width', 'species']\n",
    "\n",
    "feature_names = column_names[:-1]\n",
    "label_name = column_names[-1]\n",
    "\n",
    "print(\"특성: {}\".format(feature_names))\n",
    "print(\"레이블: {}\".format(label_name))"
   ]
  },
  {
   "cell_type": "code",
   "execution_count": 13,
   "metadata": {},
   "outputs": [
    {
     "output_type": "execute_result",
     "data": {
      "text/plain": [
       "'C:\\\\Users\\\\X0122190\\\\.keras\\\\datasets\\\\iris_training.csv'"
      ]
     },
     "metadata": {},
     "execution_count": 13
    }
   ],
   "source": [
    "train_dataset_fp"
   ]
  },
  {
   "cell_type": "code",
   "execution_count": 20,
   "metadata": {},
   "outputs": [],
   "source": [
    "batch_size = 50\n",
    "\n",
    "train_dataset = tf.data.experimental.make_csv_dataset(\n",
    "    train_dataset_fp,\n",
    "    batch_size,\n",
    "    column_names=column_names,\n",
    "    label_name=label_name,\n",
    "    num_epochs=1)"
   ]
  },
  {
   "cell_type": "code",
   "execution_count": 15,
   "metadata": {},
   "outputs": [
    {
     "output_type": "execute_result",
     "data": {
      "text/plain": [
       "<PrefetchDataset shapes: (OrderedDict([(sepal_length, (None,)), (sepal_width, (None,)), (petal_length, (None,)), (petal_width, (None,))]), (None,)), types: (OrderedDict([(sepal_length, tf.float32), (sepal_width, tf.float32), (petal_length, tf.float32), (petal_width, tf.float32)]), tf.int32)>"
      ]
     },
     "metadata": {},
     "execution_count": 15
    }
   ],
   "source": [
    "train_dataset"
   ]
  },
  {
   "cell_type": "code",
   "execution_count": 21,
   "metadata": {},
   "outputs": [],
   "source": [
    "features, labels = next(iter(train_dataset))"
   ]
  },
  {
   "cell_type": "code",
   "execution_count": 22,
   "metadata": {},
   "outputs": [
    {
     "output_type": "execute_result",
     "data": {
      "text/plain": [
       "OrderedDict([('sepal_length',\n",
       "              <tf.Tensor: shape=(50,), dtype=float32, numpy=\n",
       "              array([7.4, 4.8, 4.9, 4.5, 6.3, 5. , 5. , 6.5, 5.7, 4.6, 6.6, 6. , 6. ,\n",
       "                     5. , 5. , 6.2, 6.9, 6.3, 6. , 6.7, 6.3, 7.7, 5.2, 4.8, 5.6, 6.4,\n",
       "                     5. , 5.1, 6. , 4.9, 5.8, 5.4, 6.4, 4.6, 4.9, 6.1, 5. , 6.4, 5.8,\n",
       "                     4.8, 5.6, 6.9, 5.5, 4.4, 4.6, 7. , 7.7, 5.1, 5.5, 6.1],\n",
       "                    dtype=float32)>),\n",
       "             ('sepal_width',\n",
       "              <tf.Tensor: shape=(50,), dtype=float32, numpy=\n",
       "              array([2.8, 3. , 2.4, 2.3, 2.7, 3.4, 3.5, 3. , 3. , 3.1, 3. , 2.2, 2.9,\n",
       "                     3.3, 2. , 2.2, 3.2, 2.5, 3. , 3.1, 2.3, 2.6, 2.7, 3.4, 2.7, 2.7,\n",
       "                     3. , 3.8, 2.7, 2.5, 2.7, 3.7, 3.2, 3.4, 3.1, 2.6, 3.4, 2.8, 2.7,\n",
       "                     3.1, 2.5, 3.1, 2.4, 2.9, 3.6, 3.2, 2.8, 3.8, 2.6, 2.8],\n",
       "                    dtype=float32)>),\n",
       "             ('petal_length',\n",
       "              <tf.Tensor: shape=(50,), dtype=float32, numpy=\n",
       "              array([6.1, 1.4, 3.3, 1.3, 4.9, 1.6, 1.6, 5.8, 4.2, 1.5, 4.4, 5. , 4.5,\n",
       "                     1.4, 3.5, 4.5, 5.7, 5. , 4.8, 4.4, 4.4, 6.9, 3.9, 1.6, 4.2, 5.3,\n",
       "                     1.6, 1.6, 5.1, 4.5, 5.1, 1.5, 5.3, 1.4, 1.5, 5.6, 1.5, 5.6, 4.1,\n",
       "                     1.6, 3.9, 5.1, 3.8, 1.4, 1. , 4.7, 6.7, 1.5, 4.4, 4.7],\n",
       "                    dtype=float32)>),\n",
       "             ('petal_width',\n",
       "              <tf.Tensor: shape=(50,), dtype=float32, numpy=\n",
       "              array([1.9, 0.1, 1. , 0.3, 1.8, 0.4, 0.6, 2.2, 1.2, 0.2, 1.4, 1.5, 1.5,\n",
       "                     0.2, 1. , 1.5, 2.3, 1.9, 1.8, 1.4, 1.3, 2.3, 1.4, 0.2, 1.3, 1.9,\n",
       "                     0.2, 0.2, 1.6, 1.7, 1.9, 0.2, 2.3, 0.3, 0.1, 1.4, 0.2, 2.2, 1. ,\n",
       "                     0.2, 1.1, 2.3, 1.1, 0.2, 0.2, 1.4, 2. , 0.3, 1.2, 1.2],\n",
       "                    dtype=float32)>)])"
      ]
     },
     "metadata": {},
     "execution_count": 22
    }
   ],
   "source": [
    "features\n"
   ]
  },
  {
   "cell_type": "code",
   "execution_count": 23,
   "metadata": {},
   "outputs": [
    {
     "output_type": "execute_result",
     "data": {
      "text/plain": [
       "<tf.Tensor: shape=(50,), dtype=float32, numpy=\n",
       "array([6.1, 1.4, 3.3, 1.3, 4.9, 1.6, 1.6, 5.8, 4.2, 1.5, 4.4, 5. , 4.5,\n",
       "       1.4, 3.5, 4.5, 5.7, 5. , 4.8, 4.4, 4.4, 6.9, 3.9, 1.6, 4.2, 5.3,\n",
       "       1.6, 1.6, 5.1, 4.5, 5.1, 1.5, 5.3, 1.4, 1.5, 5.6, 1.5, 5.6, 4.1,\n",
       "       1.6, 3.9, 5.1, 3.8, 1.4, 1. , 4.7, 6.7, 1.5, 4.4, 4.7],\n",
       "      dtype=float32)>"
      ]
     },
     "metadata": {},
     "execution_count": 23
    }
   ],
   "source": [
    "features['petal_length']"
   ]
  },
  {
   "cell_type": "code",
   "execution_count": 24,
   "metadata": {},
   "outputs": [
    {
     "output_type": "display_data",
     "data": {
      "text/plain": "<Figure size 432x288 with 1 Axes>",
      "image/svg+xml": "<?xml version=\"1.0\" encoding=\"utf-8\" standalone=\"no\"?>\r\n<!DOCTYPE svg PUBLIC \"-//W3C//DTD SVG 1.1//EN\"\r\n  \"http://www.w3.org/Graphics/SVG/1.1/DTD/svg11.dtd\">\r\n<!-- Created with matplotlib (https://matplotlib.org/) -->\r\n<svg height=\"262.19625pt\" version=\"1.1\" viewBox=\"0 0 385.78125 262.19625\" width=\"385.78125pt\" xmlns=\"http://www.w3.org/2000/svg\" xmlns:xlink=\"http://www.w3.org/1999/xlink\">\r\n <metadata>\r\n  <rdf:RDF xmlns:cc=\"http://creativecommons.org/ns#\" xmlns:dc=\"http://purl.org/dc/elements/1.1/\" xmlns:rdf=\"http://www.w3.org/1999/02/22-rdf-syntax-ns#\">\r\n   <cc:Work>\r\n    <dc:type rdf:resource=\"http://purl.org/dc/dcmitype/StillImage\"/>\r\n    <dc:date>2021-03-31T10:30:07.253263</dc:date>\r\n    <dc:format>image/svg+xml</dc:format>\r\n    <dc:creator>\r\n     <cc:Agent>\r\n      <dc:title>Matplotlib v3.3.4, https://matplotlib.org/</dc:title>\r\n     </cc:Agent>\r\n    </dc:creator>\r\n   </cc:Work>\r\n  </rdf:RDF>\r\n </metadata>\r\n <defs>\r\n  <style type=\"text/css\">*{stroke-linecap:butt;stroke-linejoin:round;}</style>\r\n </defs>\r\n <g id=\"figure_1\">\r\n  <g id=\"patch_1\">\r\n   <path d=\"M 0 262.19625 \r\nL 385.78125 262.19625 \r\nL 385.78125 0 \r\nL 0 0 \r\nz\r\n\" style=\"fill:none;\"/>\r\n  </g>\r\n  <g id=\"axes_1\">\r\n   <g id=\"patch_2\">\r\n    <path d=\"M 43.78125 224.64 \r\nL 378.58125 224.64 \r\nL 378.58125 7.2 \r\nL 43.78125 7.2 \r\nz\r\n\" style=\"fill:#ffffff;\"/>\r\n   </g>\r\n   <g id=\"PathCollection_1\">\r\n    <defs>\r\n     <path d=\"M 0 3 \r\nC 0.795609 3 1.55874 2.683901 2.12132 2.12132 \r\nC 2.683901 1.55874 3 0.795609 3 -0 \r\nC 3 -0.795609 2.683901 -1.55874 2.12132 -2.12132 \r\nC 1.55874 -2.683901 0.795609 -3 0 -3 \r\nC -0.795609 -3 -1.55874 -2.683901 -2.12132 -2.12132 \r\nC -2.683901 -1.55874 -3 -0.795609 -3 0 \r\nC -3 0.795609 -2.683901 1.55874 -2.12132 2.12132 \r\nC -1.55874 2.683901 -0.795609 3 0 3 \r\nz\r\n\" id=\"C0_0_a2aab0aec6\"/>\r\n    </defs>\r\n    <g clip-path=\"url(#p240ae1c605)\">\r\n     <use style=\"fill:#fde725;stroke:#fde725;\" x=\"322.093413\" xlink:href=\"#C0_0_a2aab0aec6\" y=\"35.053869\"/>\r\n    </g>\r\n    <g clip-path=\"url(#p240ae1c605)\">\r\n     <use style=\"fill:#440154;stroke:#440154;\" x=\"79.634253\" xlink:href=\"#C0_0_a2aab0aec6\" y=\"190.796025\"/>\r\n    </g>\r\n    <g clip-path=\"url(#p240ae1c605)\">\r\n     <use style=\"fill:#21918c;stroke:#21918c;\" x=\"177.649659\" xlink:href=\"#C0_0_a2aab0aec6\" y=\"184.805948\"/>\r\n    </g>\r\n    <g clip-path=\"url(#p240ae1c605)\">\r\n     <use style=\"fill:#440154;stroke:#440154;\" x=\"74.475546\" xlink:href=\"#C0_0_a2aab0aec6\" y=\"208.766286\"/>\r\n    </g>\r\n    <g clip-path=\"url(#p240ae1c605)\">\r\n     <use style=\"fill:#fde725;stroke:#fde725;\" x=\"260.188956\" xlink:href=\"#C0_0_a2aab0aec6\" y=\"100.944778\"/>\r\n    </g>\r\n    <g clip-path=\"url(#p240ae1c605)\">\r\n     <use style=\"fill:#440154;stroke:#440154;\" x=\"89.951667\" xlink:href=\"#C0_0_a2aab0aec6\" y=\"178.81587\"/>\r\n    </g>\r\n    <g clip-path=\"url(#p240ae1c605)\">\r\n     <use style=\"fill:#440154;stroke:#440154;\" x=\"89.951667\" xlink:href=\"#C0_0_a2aab0aec6\" y=\"178.81587\"/>\r\n    </g>\r\n    <g clip-path=\"url(#p240ae1c605)\">\r\n     <use style=\"fill:#fde725;stroke:#fde725;\" x=\"306.617311\" xlink:href=\"#C0_0_a2aab0aec6\" y=\"88.964623\"/>\r\n    </g>\r\n    <g clip-path=\"url(#p240ae1c605)\">\r\n     <use style=\"fill:#21918c;stroke:#21918c;\" x=\"224.078002\" xlink:href=\"#C0_0_a2aab0aec6\" y=\"136.8853\"/>\r\n    </g>\r\n    <g clip-path=\"url(#p240ae1c605)\">\r\n     <use style=\"fill:#440154;stroke:#440154;\" x=\"84.79296\" xlink:href=\"#C0_0_a2aab0aec6\" y=\"202.776209\"/>\r\n    </g>\r\n    <g clip-path=\"url(#p240ae1c605)\">\r\n     <use style=\"fill:#21918c;stroke:#21918c;\" x=\"234.395428\" xlink:href=\"#C0_0_a2aab0aec6\" y=\"82.974545\"/>\r\n    </g>\r\n    <g clip-path=\"url(#p240ae1c605)\">\r\n     <use style=\"fill:#fde725;stroke:#fde725;\" x=\"265.347657\" xlink:href=\"#C0_0_a2aab0aec6\" y=\"118.915039\"/>\r\n    </g>\r\n    <g clip-path=\"url(#p240ae1c605)\">\r\n     <use style=\"fill:#21918c;stroke:#21918c;\" x=\"239.554128\" xlink:href=\"#C0_0_a2aab0aec6\" y=\"118.915039\"/>\r\n    </g>\r\n    <g clip-path=\"url(#p240ae1c605)\">\r\n     <use style=\"fill:#440154;stroke:#440154;\" x=\"79.634253\" xlink:href=\"#C0_0_a2aab0aec6\" y=\"178.81587\"/>\r\n    </g>\r\n    <g clip-path=\"url(#p240ae1c605)\">\r\n     <use style=\"fill:#21918c;stroke:#21918c;\" x=\"187.967072\" xlink:href=\"#C0_0_a2aab0aec6\" y=\"178.81587\"/>\r\n    </g>\r\n    <g clip-path=\"url(#p240ae1c605)\">\r\n     <use style=\"fill:#21918c;stroke:#21918c;\" x=\"239.554128\" xlink:href=\"#C0_0_a2aab0aec6\" y=\"106.934884\"/>\r\n    </g>\r\n    <g clip-path=\"url(#p240ae1c605)\">\r\n     <use style=\"fill:#fde725;stroke:#fde725;\" x=\"301.458586\" xlink:href=\"#C0_0_a2aab0aec6\" y=\"65.004285\"/>\r\n    </g>\r\n    <g clip-path=\"url(#p240ae1c605)\">\r\n     <use style=\"fill:#fde725;stroke:#fde725;\" x=\"265.347657\" xlink:href=\"#C0_0_a2aab0aec6\" y=\"100.944778\"/>\r\n    </g>\r\n    <g clip-path=\"url(#p240ae1c605)\">\r\n     <use style=\"fill:#fde725;stroke:#fde725;\" x=\"255.030255\" xlink:href=\"#C0_0_a2aab0aec6\" y=\"118.915039\"/>\r\n    </g>\r\n    <g clip-path=\"url(#p240ae1c605)\">\r\n     <use style=\"fill:#21918c;stroke:#21918c;\" x=\"234.395428\" xlink:href=\"#C0_0_a2aab0aec6\" y=\"76.984468\"/>\r\n    </g>\r\n    <g clip-path=\"url(#p240ae1c605)\">\r\n     <use style=\"fill:#21918c;stroke:#21918c;\" x=\"234.395428\" xlink:href=\"#C0_0_a2aab0aec6\" y=\"100.944778\"/>\r\n    </g>\r\n    <g clip-path=\"url(#p240ae1c605)\">\r\n     <use style=\"fill:#fde725;stroke:#fde725;\" x=\"363.363068\" xlink:href=\"#C0_0_a2aab0aec6\" y=\"17.083636\"/>\r\n    </g>\r\n    <g clip-path=\"url(#p240ae1c605)\">\r\n     <use style=\"fill:#21918c;stroke:#21918c;\" x=\"208.6019\" xlink:href=\"#C0_0_a2aab0aec6\" y=\"166.835715\"/>\r\n    </g>\r\n    <g clip-path=\"url(#p240ae1c605)\">\r\n     <use style=\"fill:#440154;stroke:#440154;\" x=\"89.951667\" xlink:href=\"#C0_0_a2aab0aec6\" y=\"190.796025\"/>\r\n    </g>\r\n    <g clip-path=\"url(#p240ae1c605)\">\r\n     <use style=\"fill:#21918c;stroke:#21918c;\" x=\"224.078002\" xlink:href=\"#C0_0_a2aab0aec6\" y=\"142.875377\"/>\r\n    </g>\r\n    <g clip-path=\"url(#p240ae1c605)\">\r\n     <use style=\"fill:#fde725;stroke:#fde725;\" x=\"280.823783\" xlink:href=\"#C0_0_a2aab0aec6\" y=\"94.9547\"/>\r\n    </g>\r\n    <g clip-path=\"url(#p240ae1c605)\">\r\n     <use style=\"fill:#440154;stroke:#440154;\" x=\"89.951667\" xlink:href=\"#C0_0_a2aab0aec6\" y=\"178.81587\"/>\r\n    </g>\r\n    <g clip-path=\"url(#p240ae1c605)\">\r\n     <use style=\"fill:#440154;stroke:#440154;\" x=\"89.951667\" xlink:href=\"#C0_0_a2aab0aec6\" y=\"172.825793\"/>\r\n    </g>\r\n    <g clip-path=\"url(#p240ae1c605)\">\r\n     <use style=\"fill:#21918c;stroke:#21918c;\" x=\"270.506357\" xlink:href=\"#C0_0_a2aab0aec6\" y=\"118.915039\"/>\r\n    </g>\r\n    <g clip-path=\"url(#p240ae1c605)\">\r\n     <use style=\"fill:#fde725;stroke:#fde725;\" x=\"239.554128\" xlink:href=\"#C0_0_a2aab0aec6\" y=\"184.805948\"/>\r\n    </g>\r\n    <g clip-path=\"url(#p240ae1c605)\">\r\n     <use style=\"fill:#fde725;stroke:#fde725;\" x=\"270.506357\" xlink:href=\"#C0_0_a2aab0aec6\" y=\"130.895194\"/>\r\n    </g>\r\n    <g clip-path=\"url(#p240ae1c605)\">\r\n     <use style=\"fill:#440154;stroke:#440154;\" x=\"84.79296\" xlink:href=\"#C0_0_a2aab0aec6\" y=\"154.855532\"/>\r\n    </g>\r\n    <g clip-path=\"url(#p240ae1c605)\">\r\n     <use style=\"fill:#fde725;stroke:#fde725;\" x=\"280.823783\" xlink:href=\"#C0_0_a2aab0aec6\" y=\"94.9547\"/>\r\n    </g>\r\n    <g clip-path=\"url(#p240ae1c605)\">\r\n     <use style=\"fill:#440154;stroke:#440154;\" x=\"79.634253\" xlink:href=\"#C0_0_a2aab0aec6\" y=\"202.776209\"/>\r\n    </g>\r\n    <g clip-path=\"url(#p240ae1c605)\">\r\n     <use style=\"fill:#440154;stroke:#440154;\" x=\"84.79296\" xlink:href=\"#C0_0_a2aab0aec6\" y=\"184.805948\"/>\r\n    </g>\r\n    <g clip-path=\"url(#p240ae1c605)\">\r\n     <use style=\"fill:#fde725;stroke:#fde725;\" x=\"296.299885\" xlink:href=\"#C0_0_a2aab0aec6\" y=\"112.924961\"/>\r\n    </g>\r\n    <g clip-path=\"url(#p240ae1c605)\">\r\n     <use style=\"fill:#440154;stroke:#440154;\" x=\"84.79296\" xlink:href=\"#C0_0_a2aab0aec6\" y=\"178.81587\"/>\r\n    </g>\r\n    <g clip-path=\"url(#p240ae1c605)\">\r\n     <use style=\"fill:#fde725;stroke:#fde725;\" x=\"296.299885\" xlink:href=\"#C0_0_a2aab0aec6\" y=\"94.9547\"/>\r\n    </g>\r\n    <g clip-path=\"url(#p240ae1c605)\">\r\n     <use style=\"fill:#21918c;stroke:#21918c;\" x=\"218.919301\" xlink:href=\"#C0_0_a2aab0aec6\" y=\"130.895194\"/>\r\n    </g>\r\n    <g clip-path=\"url(#p240ae1c605)\">\r\n     <use style=\"fill:#440154;stroke:#440154;\" x=\"89.951667\" xlink:href=\"#C0_0_a2aab0aec6\" y=\"190.796025\"/>\r\n    </g>\r\n    <g clip-path=\"url(#p240ae1c605)\">\r\n     <use style=\"fill:#21918c;stroke:#21918c;\" x=\"208.6019\" xlink:href=\"#C0_0_a2aab0aec6\" y=\"142.875377\"/>\r\n    </g>\r\n    <g clip-path=\"url(#p240ae1c605)\">\r\n     <use style=\"fill:#fde725;stroke:#fde725;\" x=\"270.506357\" xlink:href=\"#C0_0_a2aab0aec6\" y=\"65.004285\"/>\r\n    </g>\r\n    <g clip-path=\"url(#p240ae1c605)\">\r\n     <use style=\"fill:#21918c;stroke:#21918c;\" x=\"203.443187\" xlink:href=\"#C0_0_a2aab0aec6\" y=\"148.865455\"/>\r\n    </g>\r\n    <g clip-path=\"url(#p240ae1c605)\">\r\n     <use style=\"fill:#440154;stroke:#440154;\" x=\"79.634253\" xlink:href=\"#C0_0_a2aab0aec6\" y=\"214.756364\"/>\r\n    </g>\r\n    <g clip-path=\"url(#p240ae1c605)\">\r\n     <use style=\"fill:#440154;stroke:#440154;\" x=\"58.999432\" xlink:href=\"#C0_0_a2aab0aec6\" y=\"202.776209\"/>\r\n    </g>\r\n    <g clip-path=\"url(#p240ae1c605)\">\r\n     <use style=\"fill:#21918c;stroke:#21918c;\" x=\"249.87153\" xlink:href=\"#C0_0_a2aab0aec6\" y=\"59.014207\"/>\r\n    </g>\r\n    <g clip-path=\"url(#p240ae1c605)\">\r\n     <use style=\"fill:#fde725;stroke:#fde725;\" x=\"353.045642\" xlink:href=\"#C0_0_a2aab0aec6\" y=\"17.083636\"/>\r\n    </g>\r\n    <g clip-path=\"url(#p240ae1c605)\">\r\n     <use style=\"fill:#440154;stroke:#440154;\" x=\"84.79296\" xlink:href=\"#C0_0_a2aab0aec6\" y=\"172.825793\"/>\r\n    </g>\r\n    <g clip-path=\"url(#p240ae1c605)\">\r\n     <use style=\"fill:#21918c;stroke:#21918c;\" x=\"234.395428\" xlink:href=\"#C0_0_a2aab0aec6\" y=\"148.865455\"/>\r\n    </g>\r\n    <g clip-path=\"url(#p240ae1c605)\">\r\n     <use style=\"fill:#21918c;stroke:#21918c;\" x=\"249.87153\" xlink:href=\"#C0_0_a2aab0aec6\" y=\"112.924961\"/>\r\n    </g>\r\n   </g>\r\n   <g id=\"matplotlib.axis_1\">\r\n    <g id=\"xtick_1\">\r\n     <g id=\"line2d_1\">\r\n      <defs>\r\n       <path d=\"M 0 0 \r\nL 0 3.5 \r\n\" id=\"m748456f2e1\" style=\"stroke:#000000;stroke-width:0.8;\"/>\r\n      </defs>\r\n      <g>\r\n       <use style=\"stroke:#000000;stroke-width:0.8;\" x=\"58.999432\" xlink:href=\"#m748456f2e1\" y=\"224.64\"/>\r\n      </g>\r\n     </g>\r\n     <g id=\"text_1\">\r\n      <!-- 1 -->\r\n      <g transform=\"translate(55.818182 239.238438)scale(0.1 -0.1)\">\r\n       <defs>\r\n        <path d=\"M 12.40625 8.296875 \r\nL 28.515625 8.296875 \r\nL 28.515625 63.921875 \r\nL 10.984375 60.40625 \r\nL 10.984375 69.390625 \r\nL 28.421875 72.90625 \r\nL 38.28125 72.90625 \r\nL 38.28125 8.296875 \r\nL 54.390625 8.296875 \r\nL 54.390625 0 \r\nL 12.40625 0 \r\nz\r\n\" id=\"DejaVuSans-49\"/>\r\n       </defs>\r\n       <use xlink:href=\"#DejaVuSans-49\"/>\r\n      </g>\r\n     </g>\r\n    </g>\r\n    <g id=\"xtick_2\">\r\n     <g id=\"line2d_2\">\r\n      <g>\r\n       <use style=\"stroke:#000000;stroke-width:0.8;\" x=\"110.586488\" xlink:href=\"#m748456f2e1\" y=\"224.64\"/>\r\n      </g>\r\n     </g>\r\n     <g id=\"text_2\">\r\n      <!-- 2 -->\r\n      <g transform=\"translate(107.405238 239.238438)scale(0.1 -0.1)\">\r\n       <defs>\r\n        <path d=\"M 19.1875 8.296875 \r\nL 53.609375 8.296875 \r\nL 53.609375 0 \r\nL 7.328125 0 \r\nL 7.328125 8.296875 \r\nQ 12.9375 14.109375 22.625 23.890625 \r\nQ 32.328125 33.6875 34.8125 36.53125 \r\nQ 39.546875 41.84375 41.421875 45.53125 \r\nQ 43.3125 49.21875 43.3125 52.78125 \r\nQ 43.3125 58.59375 39.234375 62.25 \r\nQ 35.15625 65.921875 28.609375 65.921875 \r\nQ 23.96875 65.921875 18.8125 64.3125 \r\nQ 13.671875 62.703125 7.8125 59.421875 \r\nL 7.8125 69.390625 \r\nQ 13.765625 71.78125 18.9375 73 \r\nQ 24.125 74.21875 28.421875 74.21875 \r\nQ 39.75 74.21875 46.484375 68.546875 \r\nQ 53.21875 62.890625 53.21875 53.421875 \r\nQ 53.21875 48.921875 51.53125 44.890625 \r\nQ 49.859375 40.875 45.40625 35.40625 \r\nQ 44.1875 33.984375 37.640625 27.21875 \r\nQ 31.109375 20.453125 19.1875 8.296875 \r\nz\r\n\" id=\"DejaVuSans-50\"/>\r\n       </defs>\r\n       <use xlink:href=\"#DejaVuSans-50\"/>\r\n      </g>\r\n     </g>\r\n    </g>\r\n    <g id=\"xtick_3\">\r\n     <g id=\"line2d_3\">\r\n      <g>\r\n       <use style=\"stroke:#000000;stroke-width:0.8;\" x=\"162.173544\" xlink:href=\"#m748456f2e1\" y=\"224.64\"/>\r\n      </g>\r\n     </g>\r\n     <g id=\"text_3\">\r\n      <!-- 3 -->\r\n      <g transform=\"translate(158.992294 239.238438)scale(0.1 -0.1)\">\r\n       <defs>\r\n        <path d=\"M 40.578125 39.3125 \r\nQ 47.65625 37.796875 51.625 33 \r\nQ 55.609375 28.21875 55.609375 21.1875 \r\nQ 55.609375 10.40625 48.1875 4.484375 \r\nQ 40.765625 -1.421875 27.09375 -1.421875 \r\nQ 22.515625 -1.421875 17.65625 -0.515625 \r\nQ 12.796875 0.390625 7.625 2.203125 \r\nL 7.625 11.71875 \r\nQ 11.71875 9.328125 16.59375 8.109375 \r\nQ 21.484375 6.890625 26.8125 6.890625 \r\nQ 36.078125 6.890625 40.9375 10.546875 \r\nQ 45.796875 14.203125 45.796875 21.1875 \r\nQ 45.796875 27.640625 41.28125 31.265625 \r\nQ 36.765625 34.90625 28.71875 34.90625 \r\nL 20.21875 34.90625 \r\nL 20.21875 43.015625 \r\nL 29.109375 43.015625 \r\nQ 36.375 43.015625 40.234375 45.921875 \r\nQ 44.09375 48.828125 44.09375 54.296875 \r\nQ 44.09375 59.90625 40.109375 62.90625 \r\nQ 36.140625 65.921875 28.71875 65.921875 \r\nQ 24.65625 65.921875 20.015625 65.03125 \r\nQ 15.375 64.15625 9.8125 62.3125 \r\nL 9.8125 71.09375 \r\nQ 15.4375 72.65625 20.34375 73.4375 \r\nQ 25.25 74.21875 29.59375 74.21875 \r\nQ 40.828125 74.21875 47.359375 69.109375 \r\nQ 53.90625 64.015625 53.90625 55.328125 \r\nQ 53.90625 49.265625 50.4375 45.09375 \r\nQ 46.96875 40.921875 40.578125 39.3125 \r\nz\r\n\" id=\"DejaVuSans-51\"/>\r\n       </defs>\r\n       <use xlink:href=\"#DejaVuSans-51\"/>\r\n      </g>\r\n     </g>\r\n    </g>\r\n    <g id=\"xtick_4\">\r\n     <g id=\"line2d_4\">\r\n      <g>\r\n       <use style=\"stroke:#000000;stroke-width:0.8;\" x=\"213.7606\" xlink:href=\"#m748456f2e1\" y=\"224.64\"/>\r\n      </g>\r\n     </g>\r\n     <g id=\"text_4\">\r\n      <!-- 4 -->\r\n      <g transform=\"translate(210.57935 239.238438)scale(0.1 -0.1)\">\r\n       <defs>\r\n        <path d=\"M 37.796875 64.3125 \r\nL 12.890625 25.390625 \r\nL 37.796875 25.390625 \r\nz\r\nM 35.203125 72.90625 \r\nL 47.609375 72.90625 \r\nL 47.609375 25.390625 \r\nL 58.015625 25.390625 \r\nL 58.015625 17.1875 \r\nL 47.609375 17.1875 \r\nL 47.609375 0 \r\nL 37.796875 0 \r\nL 37.796875 17.1875 \r\nL 4.890625 17.1875 \r\nL 4.890625 26.703125 \r\nz\r\n\" id=\"DejaVuSans-52\"/>\r\n       </defs>\r\n       <use xlink:href=\"#DejaVuSans-52\"/>\r\n      </g>\r\n     </g>\r\n    </g>\r\n    <g id=\"xtick_5\">\r\n     <g id=\"line2d_5\">\r\n      <g>\r\n       <use style=\"stroke:#000000;stroke-width:0.8;\" x=\"265.347657\" xlink:href=\"#m748456f2e1\" y=\"224.64\"/>\r\n      </g>\r\n     </g>\r\n     <g id=\"text_5\">\r\n      <!-- 5 -->\r\n      <g transform=\"translate(262.166407 239.238438)scale(0.1 -0.1)\">\r\n       <defs>\r\n        <path d=\"M 10.796875 72.90625 \r\nL 49.515625 72.90625 \r\nL 49.515625 64.59375 \r\nL 19.828125 64.59375 \r\nL 19.828125 46.734375 \r\nQ 21.96875 47.46875 24.109375 47.828125 \r\nQ 26.265625 48.1875 28.421875 48.1875 \r\nQ 40.625 48.1875 47.75 41.5 \r\nQ 54.890625 34.8125 54.890625 23.390625 \r\nQ 54.890625 11.625 47.5625 5.09375 \r\nQ 40.234375 -1.421875 26.90625 -1.421875 \r\nQ 22.3125 -1.421875 17.546875 -0.640625 \r\nQ 12.796875 0.140625 7.71875 1.703125 \r\nL 7.71875 11.625 \r\nQ 12.109375 9.234375 16.796875 8.0625 \r\nQ 21.484375 6.890625 26.703125 6.890625 \r\nQ 35.15625 6.890625 40.078125 11.328125 \r\nQ 45.015625 15.765625 45.015625 23.390625 \r\nQ 45.015625 31 40.078125 35.4375 \r\nQ 35.15625 39.890625 26.703125 39.890625 \r\nQ 22.75 39.890625 18.8125 39.015625 \r\nQ 14.890625 38.140625 10.796875 36.28125 \r\nz\r\n\" id=\"DejaVuSans-53\"/>\r\n       </defs>\r\n       <use xlink:href=\"#DejaVuSans-53\"/>\r\n      </g>\r\n     </g>\r\n    </g>\r\n    <g id=\"xtick_6\">\r\n     <g id=\"line2d_6\">\r\n      <g>\r\n       <use style=\"stroke:#000000;stroke-width:0.8;\" x=\"316.934713\" xlink:href=\"#m748456f2e1\" y=\"224.64\"/>\r\n      </g>\r\n     </g>\r\n     <g id=\"text_6\">\r\n      <!-- 6 -->\r\n      <g transform=\"translate(313.753463 239.238438)scale(0.1 -0.1)\">\r\n       <defs>\r\n        <path d=\"M 33.015625 40.375 \r\nQ 26.375 40.375 22.484375 35.828125 \r\nQ 18.609375 31.296875 18.609375 23.390625 \r\nQ 18.609375 15.53125 22.484375 10.953125 \r\nQ 26.375 6.390625 33.015625 6.390625 \r\nQ 39.65625 6.390625 43.53125 10.953125 \r\nQ 47.40625 15.53125 47.40625 23.390625 \r\nQ 47.40625 31.296875 43.53125 35.828125 \r\nQ 39.65625 40.375 33.015625 40.375 \r\nz\r\nM 52.59375 71.296875 \r\nL 52.59375 62.3125 \r\nQ 48.875 64.0625 45.09375 64.984375 \r\nQ 41.3125 65.921875 37.59375 65.921875 \r\nQ 27.828125 65.921875 22.671875 59.328125 \r\nQ 17.53125 52.734375 16.796875 39.40625 \r\nQ 19.671875 43.65625 24.015625 45.921875 \r\nQ 28.375 48.1875 33.59375 48.1875 \r\nQ 44.578125 48.1875 50.953125 41.515625 \r\nQ 57.328125 34.859375 57.328125 23.390625 \r\nQ 57.328125 12.15625 50.6875 5.359375 \r\nQ 44.046875 -1.421875 33.015625 -1.421875 \r\nQ 20.359375 -1.421875 13.671875 8.265625 \r\nQ 6.984375 17.96875 6.984375 36.375 \r\nQ 6.984375 53.65625 15.1875 63.9375 \r\nQ 23.390625 74.21875 37.203125 74.21875 \r\nQ 40.921875 74.21875 44.703125 73.484375 \r\nQ 48.484375 72.75 52.59375 71.296875 \r\nz\r\n\" id=\"DejaVuSans-54\"/>\r\n       </defs>\r\n       <use xlink:href=\"#DejaVuSans-54\"/>\r\n      </g>\r\n     </g>\r\n    </g>\r\n    <g id=\"xtick_7\">\r\n     <g id=\"line2d_7\">\r\n      <g>\r\n       <use style=\"stroke:#000000;stroke-width:0.8;\" x=\"368.521769\" xlink:href=\"#m748456f2e1\" y=\"224.64\"/>\r\n      </g>\r\n     </g>\r\n     <g id=\"text_7\">\r\n      <!-- 7 -->\r\n      <g transform=\"translate(365.340519 239.238438)scale(0.1 -0.1)\">\r\n       <defs>\r\n        <path d=\"M 8.203125 72.90625 \r\nL 55.078125 72.90625 \r\nL 55.078125 68.703125 \r\nL 28.609375 0 \r\nL 18.3125 0 \r\nL 43.21875 64.59375 \r\nL 8.203125 64.59375 \r\nz\r\n\" id=\"DejaVuSans-55\"/>\r\n       </defs>\r\n       <use xlink:href=\"#DejaVuSans-55\"/>\r\n      </g>\r\n     </g>\r\n    </g>\r\n    <g id=\"text_8\">\r\n     <!-- Petal length -->\r\n     <g transform=\"translate(181.33125 252.916563)scale(0.1 -0.1)\">\r\n      <defs>\r\n       <path d=\"M 19.671875 64.796875 \r\nL 19.671875 37.40625 \r\nL 32.078125 37.40625 \r\nQ 38.96875 37.40625 42.71875 40.96875 \r\nQ 46.484375 44.53125 46.484375 51.125 \r\nQ 46.484375 57.671875 42.71875 61.234375 \r\nQ 38.96875 64.796875 32.078125 64.796875 \r\nz\r\nM 9.8125 72.90625 \r\nL 32.078125 72.90625 \r\nQ 44.34375 72.90625 50.609375 67.359375 \r\nQ 56.890625 61.8125 56.890625 51.125 \r\nQ 56.890625 40.328125 50.609375 34.8125 \r\nQ 44.34375 29.296875 32.078125 29.296875 \r\nL 19.671875 29.296875 \r\nL 19.671875 0 \r\nL 9.8125 0 \r\nz\r\n\" id=\"DejaVuSans-80\"/>\r\n       <path d=\"M 56.203125 29.59375 \r\nL 56.203125 25.203125 \r\nL 14.890625 25.203125 \r\nQ 15.484375 15.921875 20.484375 11.0625 \r\nQ 25.484375 6.203125 34.421875 6.203125 \r\nQ 39.59375 6.203125 44.453125 7.46875 \r\nQ 49.3125 8.734375 54.109375 11.28125 \r\nL 54.109375 2.78125 \r\nQ 49.265625 0.734375 44.1875 -0.34375 \r\nQ 39.109375 -1.421875 33.890625 -1.421875 \r\nQ 20.796875 -1.421875 13.15625 6.1875 \r\nQ 5.515625 13.8125 5.515625 26.8125 \r\nQ 5.515625 40.234375 12.765625 48.109375 \r\nQ 20.015625 56 32.328125 56 \r\nQ 43.359375 56 49.78125 48.890625 \r\nQ 56.203125 41.796875 56.203125 29.59375 \r\nz\r\nM 47.21875 32.234375 \r\nQ 47.125 39.59375 43.09375 43.984375 \r\nQ 39.0625 48.390625 32.421875 48.390625 \r\nQ 24.90625 48.390625 20.390625 44.140625 \r\nQ 15.875 39.890625 15.1875 32.171875 \r\nz\r\n\" id=\"DejaVuSans-101\"/>\r\n       <path d=\"M 18.3125 70.21875 \r\nL 18.3125 54.6875 \r\nL 36.8125 54.6875 \r\nL 36.8125 47.703125 \r\nL 18.3125 47.703125 \r\nL 18.3125 18.015625 \r\nQ 18.3125 11.328125 20.140625 9.421875 \r\nQ 21.96875 7.515625 27.59375 7.515625 \r\nL 36.8125 7.515625 \r\nL 36.8125 0 \r\nL 27.59375 0 \r\nQ 17.1875 0 13.234375 3.875 \r\nQ 9.28125 7.765625 9.28125 18.015625 \r\nL 9.28125 47.703125 \r\nL 2.6875 47.703125 \r\nL 2.6875 54.6875 \r\nL 9.28125 54.6875 \r\nL 9.28125 70.21875 \r\nz\r\n\" id=\"DejaVuSans-116\"/>\r\n       <path d=\"M 34.28125 27.484375 \r\nQ 23.390625 27.484375 19.1875 25 \r\nQ 14.984375 22.515625 14.984375 16.5 \r\nQ 14.984375 11.71875 18.140625 8.90625 \r\nQ 21.296875 6.109375 26.703125 6.109375 \r\nQ 34.1875 6.109375 38.703125 11.40625 \r\nQ 43.21875 16.703125 43.21875 25.484375 \r\nL 43.21875 27.484375 \r\nz\r\nM 52.203125 31.203125 \r\nL 52.203125 0 \r\nL 43.21875 0 \r\nL 43.21875 8.296875 \r\nQ 40.140625 3.328125 35.546875 0.953125 \r\nQ 30.953125 -1.421875 24.3125 -1.421875 \r\nQ 15.921875 -1.421875 10.953125 3.296875 \r\nQ 6 8.015625 6 15.921875 \r\nQ 6 25.140625 12.171875 29.828125 \r\nQ 18.359375 34.515625 30.609375 34.515625 \r\nL 43.21875 34.515625 \r\nL 43.21875 35.40625 \r\nQ 43.21875 41.609375 39.140625 45 \r\nQ 35.0625 48.390625 27.6875 48.390625 \r\nQ 23 48.390625 18.546875 47.265625 \r\nQ 14.109375 46.140625 10.015625 43.890625 \r\nL 10.015625 52.203125 \r\nQ 14.9375 54.109375 19.578125 55.046875 \r\nQ 24.21875 56 28.609375 56 \r\nQ 40.484375 56 46.34375 49.84375 \r\nQ 52.203125 43.703125 52.203125 31.203125 \r\nz\r\n\" id=\"DejaVuSans-97\"/>\r\n       <path d=\"M 9.421875 75.984375 \r\nL 18.40625 75.984375 \r\nL 18.40625 0 \r\nL 9.421875 0 \r\nz\r\n\" id=\"DejaVuSans-108\"/>\r\n       <path id=\"DejaVuSans-32\"/>\r\n       <path d=\"M 54.890625 33.015625 \r\nL 54.890625 0 \r\nL 45.90625 0 \r\nL 45.90625 32.71875 \r\nQ 45.90625 40.484375 42.875 44.328125 \r\nQ 39.84375 48.1875 33.796875 48.1875 \r\nQ 26.515625 48.1875 22.3125 43.546875 \r\nQ 18.109375 38.921875 18.109375 30.90625 \r\nL 18.109375 0 \r\nL 9.078125 0 \r\nL 9.078125 54.6875 \r\nL 18.109375 54.6875 \r\nL 18.109375 46.1875 \r\nQ 21.34375 51.125 25.703125 53.5625 \r\nQ 30.078125 56 35.796875 56 \r\nQ 45.21875 56 50.046875 50.171875 \r\nQ 54.890625 44.34375 54.890625 33.015625 \r\nz\r\n\" id=\"DejaVuSans-110\"/>\r\n       <path d=\"M 45.40625 27.984375 \r\nQ 45.40625 37.75 41.375 43.109375 \r\nQ 37.359375 48.484375 30.078125 48.484375 \r\nQ 22.859375 48.484375 18.828125 43.109375 \r\nQ 14.796875 37.75 14.796875 27.984375 \r\nQ 14.796875 18.265625 18.828125 12.890625 \r\nQ 22.859375 7.515625 30.078125 7.515625 \r\nQ 37.359375 7.515625 41.375 12.890625 \r\nQ 45.40625 18.265625 45.40625 27.984375 \r\nz\r\nM 54.390625 6.78125 \r\nQ 54.390625 -7.171875 48.1875 -13.984375 \r\nQ 42 -20.796875 29.203125 -20.796875 \r\nQ 24.46875 -20.796875 20.265625 -20.09375 \r\nQ 16.0625 -19.390625 12.109375 -17.921875 \r\nL 12.109375 -9.1875 \r\nQ 16.0625 -11.328125 19.921875 -12.34375 \r\nQ 23.78125 -13.375 27.78125 -13.375 \r\nQ 36.625 -13.375 41.015625 -8.765625 \r\nQ 45.40625 -4.15625 45.40625 5.171875 \r\nL 45.40625 9.625 \r\nQ 42.625 4.78125 38.28125 2.390625 \r\nQ 33.9375 0 27.875 0 \r\nQ 17.828125 0 11.671875 7.65625 \r\nQ 5.515625 15.328125 5.515625 27.984375 \r\nQ 5.515625 40.671875 11.671875 48.328125 \r\nQ 17.828125 56 27.875 56 \r\nQ 33.9375 56 38.28125 53.609375 \r\nQ 42.625 51.21875 45.40625 46.390625 \r\nL 45.40625 54.6875 \r\nL 54.390625 54.6875 \r\nz\r\n\" id=\"DejaVuSans-103\"/>\r\n       <path d=\"M 54.890625 33.015625 \r\nL 54.890625 0 \r\nL 45.90625 0 \r\nL 45.90625 32.71875 \r\nQ 45.90625 40.484375 42.875 44.328125 \r\nQ 39.84375 48.1875 33.796875 48.1875 \r\nQ 26.515625 48.1875 22.3125 43.546875 \r\nQ 18.109375 38.921875 18.109375 30.90625 \r\nL 18.109375 0 \r\nL 9.078125 0 \r\nL 9.078125 75.984375 \r\nL 18.109375 75.984375 \r\nL 18.109375 46.1875 \r\nQ 21.34375 51.125 25.703125 53.5625 \r\nQ 30.078125 56 35.796875 56 \r\nQ 45.21875 56 50.046875 50.171875 \r\nQ 54.890625 44.34375 54.890625 33.015625 \r\nz\r\n\" id=\"DejaVuSans-104\"/>\r\n      </defs>\r\n      <use xlink:href=\"#DejaVuSans-80\"/>\r\n      <use x=\"56.677734\" xlink:href=\"#DejaVuSans-101\"/>\r\n      <use x=\"118.201172\" xlink:href=\"#DejaVuSans-116\"/>\r\n      <use x=\"157.410156\" xlink:href=\"#DejaVuSans-97\"/>\r\n      <use x=\"218.689453\" xlink:href=\"#DejaVuSans-108\"/>\r\n      <use x=\"246.472656\" xlink:href=\"#DejaVuSans-32\"/>\r\n      <use x=\"278.259766\" xlink:href=\"#DejaVuSans-108\"/>\r\n      <use x=\"306.042969\" xlink:href=\"#DejaVuSans-101\"/>\r\n      <use x=\"367.566406\" xlink:href=\"#DejaVuSans-110\"/>\r\n      <use x=\"430.945312\" xlink:href=\"#DejaVuSans-103\"/>\r\n      <use x=\"494.421875\" xlink:href=\"#DejaVuSans-116\"/>\r\n      <use x=\"533.630859\" xlink:href=\"#DejaVuSans-104\"/>\r\n     </g>\r\n    </g>\r\n   </g>\r\n   <g id=\"matplotlib.axis_2\">\r\n    <g id=\"ytick_1\">\r\n     <g id=\"line2d_8\">\r\n      <defs>\r\n       <path d=\"M 0 0 \r\nL -3.5 0 \r\n\" id=\"m84c8f6085c\" style=\"stroke:#000000;stroke-width:0.8;\"/>\r\n      </defs>\r\n      <g>\r\n       <use style=\"stroke:#000000;stroke-width:0.8;\" x=\"43.78125\" xlink:href=\"#m84c8f6085c\" y=\"208.766286\"/>\r\n      </g>\r\n     </g>\r\n     <g id=\"text_9\">\r\n      <!-- 4.5 -->\r\n      <g transform=\"translate(20.878125 212.565505)scale(0.1 -0.1)\">\r\n       <defs>\r\n        <path d=\"M 10.6875 12.40625 \r\nL 21 12.40625 \r\nL 21 0 \r\nL 10.6875 0 \r\nz\r\n\" id=\"DejaVuSans-46\"/>\r\n       </defs>\r\n       <use xlink:href=\"#DejaVuSans-52\"/>\r\n       <use x=\"63.623047\" xlink:href=\"#DejaVuSans-46\"/>\r\n       <use x=\"95.410156\" xlink:href=\"#DejaVuSans-53\"/>\r\n      </g>\r\n     </g>\r\n    </g>\r\n    <g id=\"ytick_2\">\r\n     <g id=\"line2d_9\">\r\n      <g>\r\n       <use style=\"stroke:#000000;stroke-width:0.8;\" x=\"43.78125\" xlink:href=\"#m84c8f6085c\" y=\"178.81587\"/>\r\n      </g>\r\n     </g>\r\n     <g id=\"text_10\">\r\n      <!-- 5.0 -->\r\n      <g transform=\"translate(20.878125 182.615089)scale(0.1 -0.1)\">\r\n       <defs>\r\n        <path d=\"M 31.78125 66.40625 \r\nQ 24.171875 66.40625 20.328125 58.90625 \r\nQ 16.5 51.421875 16.5 36.375 \r\nQ 16.5 21.390625 20.328125 13.890625 \r\nQ 24.171875 6.390625 31.78125 6.390625 \r\nQ 39.453125 6.390625 43.28125 13.890625 \r\nQ 47.125 21.390625 47.125 36.375 \r\nQ 47.125 51.421875 43.28125 58.90625 \r\nQ 39.453125 66.40625 31.78125 66.40625 \r\nz\r\nM 31.78125 74.21875 \r\nQ 44.046875 74.21875 50.515625 64.515625 \r\nQ 56.984375 54.828125 56.984375 36.375 \r\nQ 56.984375 17.96875 50.515625 8.265625 \r\nQ 44.046875 -1.421875 31.78125 -1.421875 \r\nQ 19.53125 -1.421875 13.0625 8.265625 \r\nQ 6.59375 17.96875 6.59375 36.375 \r\nQ 6.59375 54.828125 13.0625 64.515625 \r\nQ 19.53125 74.21875 31.78125 74.21875 \r\nz\r\n\" id=\"DejaVuSans-48\"/>\r\n       </defs>\r\n       <use xlink:href=\"#DejaVuSans-53\"/>\r\n       <use x=\"63.623047\" xlink:href=\"#DejaVuSans-46\"/>\r\n       <use x=\"95.410156\" xlink:href=\"#DejaVuSans-48\"/>\r\n      </g>\r\n     </g>\r\n    </g>\r\n    <g id=\"ytick_3\">\r\n     <g id=\"line2d_10\">\r\n      <g>\r\n       <use style=\"stroke:#000000;stroke-width:0.8;\" x=\"43.78125\" xlink:href=\"#m84c8f6085c\" y=\"148.865455\"/>\r\n      </g>\r\n     </g>\r\n     <g id=\"text_11\">\r\n      <!-- 5.5 -->\r\n      <g transform=\"translate(20.878125 152.664673)scale(0.1 -0.1)\">\r\n       <use xlink:href=\"#DejaVuSans-53\"/>\r\n       <use x=\"63.623047\" xlink:href=\"#DejaVuSans-46\"/>\r\n       <use x=\"95.410156\" xlink:href=\"#DejaVuSans-53\"/>\r\n      </g>\r\n     </g>\r\n    </g>\r\n    <g id=\"ytick_4\">\r\n     <g id=\"line2d_11\">\r\n      <g>\r\n       <use style=\"stroke:#000000;stroke-width:0.8;\" x=\"43.78125\" xlink:href=\"#m84c8f6085c\" y=\"118.915039\"/>\r\n      </g>\r\n     </g>\r\n     <g id=\"text_12\">\r\n      <!-- 6.0 -->\r\n      <g transform=\"translate(20.878125 122.714257)scale(0.1 -0.1)\">\r\n       <use xlink:href=\"#DejaVuSans-54\"/>\r\n       <use x=\"63.623047\" xlink:href=\"#DejaVuSans-46\"/>\r\n       <use x=\"95.410156\" xlink:href=\"#DejaVuSans-48\"/>\r\n      </g>\r\n     </g>\r\n    </g>\r\n    <g id=\"ytick_5\">\r\n     <g id=\"line2d_12\">\r\n      <g>\r\n       <use style=\"stroke:#000000;stroke-width:0.8;\" x=\"43.78125\" xlink:href=\"#m84c8f6085c\" y=\"88.964623\"/>\r\n      </g>\r\n     </g>\r\n     <g id=\"text_13\">\r\n      <!-- 6.5 -->\r\n      <g transform=\"translate(20.878125 92.763842)scale(0.1 -0.1)\">\r\n       <use xlink:href=\"#DejaVuSans-54\"/>\r\n       <use x=\"63.623047\" xlink:href=\"#DejaVuSans-46\"/>\r\n       <use x=\"95.410156\" xlink:href=\"#DejaVuSans-53\"/>\r\n      </g>\r\n     </g>\r\n    </g>\r\n    <g id=\"ytick_6\">\r\n     <g id=\"line2d_13\">\r\n      <g>\r\n       <use style=\"stroke:#000000;stroke-width:0.8;\" x=\"43.78125\" xlink:href=\"#m84c8f6085c\" y=\"59.014207\"/>\r\n      </g>\r\n     </g>\r\n     <g id=\"text_14\">\r\n      <!-- 7.0 -->\r\n      <g transform=\"translate(20.878125 62.813426)scale(0.1 -0.1)\">\r\n       <use xlink:href=\"#DejaVuSans-55\"/>\r\n       <use x=\"63.623047\" xlink:href=\"#DejaVuSans-46\"/>\r\n       <use x=\"95.410156\" xlink:href=\"#DejaVuSans-48\"/>\r\n      </g>\r\n     </g>\r\n    </g>\r\n    <g id=\"ytick_7\">\r\n     <g id=\"line2d_14\">\r\n      <g>\r\n       <use style=\"stroke:#000000;stroke-width:0.8;\" x=\"43.78125\" xlink:href=\"#m84c8f6085c\" y=\"29.063791\"/>\r\n      </g>\r\n     </g>\r\n     <g id=\"text_15\">\r\n      <!-- 7.5 -->\r\n      <g transform=\"translate(20.878125 32.86301)scale(0.1 -0.1)\">\r\n       <use xlink:href=\"#DejaVuSans-55\"/>\r\n       <use x=\"63.623047\" xlink:href=\"#DejaVuSans-46\"/>\r\n       <use x=\"95.410156\" xlink:href=\"#DejaVuSans-53\"/>\r\n      </g>\r\n     </g>\r\n    </g>\r\n    <g id=\"text_16\">\r\n     <!-- Sepal length -->\r\n     <g transform=\"translate(14.798438 147.324688)rotate(-90)scale(0.1 -0.1)\">\r\n      <defs>\r\n       <path d=\"M 53.515625 70.515625 \r\nL 53.515625 60.890625 \r\nQ 47.90625 63.578125 42.921875 64.890625 \r\nQ 37.9375 66.21875 33.296875 66.21875 \r\nQ 25.25 66.21875 20.875 63.09375 \r\nQ 16.5 59.96875 16.5 54.203125 \r\nQ 16.5 49.359375 19.40625 46.890625 \r\nQ 22.3125 44.4375 30.421875 42.921875 \r\nL 36.375 41.703125 \r\nQ 47.40625 39.59375 52.65625 34.296875 \r\nQ 57.90625 29 57.90625 20.125 \r\nQ 57.90625 9.515625 50.796875 4.046875 \r\nQ 43.703125 -1.421875 29.984375 -1.421875 \r\nQ 24.8125 -1.421875 18.96875 -0.25 \r\nQ 13.140625 0.921875 6.890625 3.21875 \r\nL 6.890625 13.375 \r\nQ 12.890625 10.015625 18.65625 8.296875 \r\nQ 24.421875 6.59375 29.984375 6.59375 \r\nQ 38.421875 6.59375 43.015625 9.90625 \r\nQ 47.609375 13.234375 47.609375 19.390625 \r\nQ 47.609375 24.75 44.3125 27.78125 \r\nQ 41.015625 30.8125 33.5 32.328125 \r\nL 27.484375 33.5 \r\nQ 16.453125 35.6875 11.515625 40.375 \r\nQ 6.59375 45.0625 6.59375 53.421875 \r\nQ 6.59375 63.09375 13.40625 68.65625 \r\nQ 20.21875 74.21875 32.171875 74.21875 \r\nQ 37.3125 74.21875 42.625 73.28125 \r\nQ 47.953125 72.359375 53.515625 70.515625 \r\nz\r\n\" id=\"DejaVuSans-83\"/>\r\n       <path d=\"M 18.109375 8.203125 \r\nL 18.109375 -20.796875 \r\nL 9.078125 -20.796875 \r\nL 9.078125 54.6875 \r\nL 18.109375 54.6875 \r\nL 18.109375 46.390625 \r\nQ 20.953125 51.265625 25.265625 53.625 \r\nQ 29.59375 56 35.59375 56 \r\nQ 45.5625 56 51.78125 48.09375 \r\nQ 58.015625 40.1875 58.015625 27.296875 \r\nQ 58.015625 14.40625 51.78125 6.484375 \r\nQ 45.5625 -1.421875 35.59375 -1.421875 \r\nQ 29.59375 -1.421875 25.265625 0.953125 \r\nQ 20.953125 3.328125 18.109375 8.203125 \r\nz\r\nM 48.6875 27.296875 \r\nQ 48.6875 37.203125 44.609375 42.84375 \r\nQ 40.53125 48.484375 33.40625 48.484375 \r\nQ 26.265625 48.484375 22.1875 42.84375 \r\nQ 18.109375 37.203125 18.109375 27.296875 \r\nQ 18.109375 17.390625 22.1875 11.75 \r\nQ 26.265625 6.109375 33.40625 6.109375 \r\nQ 40.53125 6.109375 44.609375 11.75 \r\nQ 48.6875 17.390625 48.6875 27.296875 \r\nz\r\n\" id=\"DejaVuSans-112\"/>\r\n      </defs>\r\n      <use xlink:href=\"#DejaVuSans-83\"/>\r\n      <use x=\"63.476562\" xlink:href=\"#DejaVuSans-101\"/>\r\n      <use x=\"125\" xlink:href=\"#DejaVuSans-112\"/>\r\n      <use x=\"188.476562\" xlink:href=\"#DejaVuSans-97\"/>\r\n      <use x=\"249.755859\" xlink:href=\"#DejaVuSans-108\"/>\r\n      <use x=\"277.539062\" xlink:href=\"#DejaVuSans-32\"/>\r\n      <use x=\"309.326172\" xlink:href=\"#DejaVuSans-108\"/>\r\n      <use x=\"337.109375\" xlink:href=\"#DejaVuSans-101\"/>\r\n      <use x=\"398.632812\" xlink:href=\"#DejaVuSans-110\"/>\r\n      <use x=\"462.011719\" xlink:href=\"#DejaVuSans-103\"/>\r\n      <use x=\"525.488281\" xlink:href=\"#DejaVuSans-116\"/>\r\n      <use x=\"564.697266\" xlink:href=\"#DejaVuSans-104\"/>\r\n     </g>\r\n    </g>\r\n   </g>\r\n   <g id=\"patch_3\">\r\n    <path d=\"M 43.78125 224.64 \r\nL 43.78125 7.2 \r\n\" style=\"fill:none;stroke:#000000;stroke-linecap:square;stroke-linejoin:miter;stroke-width:0.8;\"/>\r\n   </g>\r\n   <g id=\"patch_4\">\r\n    <path d=\"M 378.58125 224.64 \r\nL 378.58125 7.2 \r\n\" style=\"fill:none;stroke:#000000;stroke-linecap:square;stroke-linejoin:miter;stroke-width:0.8;\"/>\r\n   </g>\r\n   <g id=\"patch_5\">\r\n    <path d=\"M 43.78125 224.64 \r\nL 378.58125 224.64 \r\n\" style=\"fill:none;stroke:#000000;stroke-linecap:square;stroke-linejoin:miter;stroke-width:0.8;\"/>\r\n   </g>\r\n   <g id=\"patch_6\">\r\n    <path d=\"M 43.78125 7.2 \r\nL 378.58125 7.2 \r\n\" style=\"fill:none;stroke:#000000;stroke-linecap:square;stroke-linejoin:miter;stroke-width:0.8;\"/>\r\n   </g>\r\n  </g>\r\n </g>\r\n <defs>\r\n  <clipPath id=\"p240ae1c605\">\r\n   <rect height=\"217.44\" width=\"334.8\" x=\"43.78125\" y=\"7.2\"/>\r\n  </clipPath>\r\n </defs>\r\n</svg>\r\n",
      "image/png": "[encoded data removed]"
     },
     "metadata": {
      "needs_background": "light"
     }
    }
   ],
   "source": [
    "plt.scatter(features['petal_length'],\n",
    "            features['sepal_length'],\n",
    "            c=labels,\n",
    "            cmap='viridis')\n",
    "\n",
    "plt.xlabel(\"Petal length\")\n",
    "plt.ylabel(\"Sepal length\")\n",
    "plt.show()"
   ]
  },
  {
   "cell_type": "code",
   "execution_count": 25,
   "metadata": {},
   "outputs": [],
   "source": [
    "def pack_features_vector(features, labels):\n",
    "  \"\"\"특성들을 단일 배열로 묶습니다.\"\"\"\n",
    "  features = tf.stack(list(features.values()), axis=1)\n",
    "  return features, labels"
   ]
  },
  {
   "cell_type": "code",
   "execution_count": 26,
   "metadata": {},
   "outputs": [],
   "source": [
    "train_dataset = train_dataset.map(pack_features_vector)"
   ]
  },
  {
   "cell_type": "code",
   "execution_count": 28,
   "metadata": {},
   "outputs": [
    {
     "output_type": "execute_result",
     "data": {
      "text/plain": [
       "<MapDataset shapes: ((None, 4), (None,)), types: (tf.float32, tf.int32)>"
      ]
     },
     "metadata": {},
     "execution_count": 28
    }
   ],
   "source": [
    "train_dataset"
   ]
  }
 ]
}
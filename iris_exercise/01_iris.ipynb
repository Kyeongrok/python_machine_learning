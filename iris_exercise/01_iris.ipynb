{
 "cells": [
  {
   "cell_type": "code",
   "execution_count": 40,
   "metadata": {
    "collapsed": true
   },
   "outputs": [],
   "source": [
    "# data set 불러오기\n",
    "import tensorflow as tf\n",
    "import os\n",
    "import pandas as pd\n",
    "import matplotlib.pylab as plt\n",
    "import numpy as np\n",
    "from tensorflow.keras.models import Sequential\n",
    "from tensorflow.keras.layers import Dense\n",
    "\n",
    "train_dataset_url = \"https://storage.googleapis.com/download.tensorflow.org/data/iris_training.csv\"\n",
    "train_dataset_fp = tf.keras.utils.get_file(fname=os.path.basename(train_dataset_url),\n",
    "                                           origin=train_dataset_url)"
   ]
  },
  {
   "cell_type": "code",
   "execution_count": 78,
   "outputs": [],
   "source": [
    "column_names = ['sepal_length', 'sepal_width', 'petal_length', 'petal_width', 'species']\n",
    "iris = pd.read_csv(train_dataset_fp, names=column_names)\n",
    "iris = iris[1:]\n",
    "\n",
    "iris.to_csv('c:/git/python/python_machine_learning/iris_exercise/iris.csv')\n",
    "\n",
    "x = iris[column_names[:4]].values\n",
    "y = iris[column_names[4]].values"
   ],
   "metadata": {
    "collapsed": false,
    "pycharm": {
     "name": "#%%\n"
    }
   }
  },
  {
   "cell_type": "code",
   "execution_count": 50,
   "outputs": [
    {
     "data": {
      "text/plain": "array([[6.4, 2.8, '5.6', '2.2'],\n       [5.0, 2.3, '3.3', '1.0'],\n       [4.9, 2.5, '4.5', '1.7'],\n       [4.9, 3.1, '1.5', '0.1'],\n       [5.7, 3.8, '1.7', '0.3'],\n       [4.4, 3.2, '1.3', '0.2'],\n       [5.4, 3.4, '1.5', '0.4'],\n       [6.9, 3.1, '5.1', '2.3'],\n       [6.7, 3.1, '4.4', '1.4'],\n       [5.1, 3.7, '1.5', '0.4'],\n       [5.2, 2.7, '3.9', '1.4'],\n       [6.9, 3.1, '4.9', '1.5'],\n       [5.8, 4.0, '1.2', '0.2'],\n       [5.4, 3.9, '1.7', '0.4'],\n       [7.7, 3.8, '6.7', '2.2'],\n       [6.3, 3.3, '4.7', '1.6'],\n       [6.8, 3.2, '5.9', '2.3'],\n       [7.6, 3.0, '6.6', '2.1'],\n       [6.4, 3.2, '5.3', '2.3'],\n       [5.7, 4.4, '1.5', '0.4'],\n       [6.7, 3.3, '5.7', '2.1'],\n       [6.4, 2.8, '5.6', '2.1'],\n       [5.4, 3.9, '1.3', '0.4'],\n       [6.1, 2.6, '5.6', '1.4'],\n       [7.2, 3.0, '5.8', '1.6'],\n       [5.2, 3.5, '1.5', '0.2'],\n       [5.8, 2.6, '4.0', '1.2'],\n       [5.9, 3.0, '5.1', '1.8'],\n       [5.4, 3.0, '4.5', '1.5'],\n       [6.7, 3.0, '5.0', '1.7'],\n       [6.3, 2.3, '4.4', '1.3'],\n       [5.1, 2.5, '3.0', '1.1'],\n       [6.4, 3.2, '4.5', '1.5'],\n       [6.8, 3.0, '5.5', '2.1'],\n       [6.2, 2.8, '4.8', '1.8'],\n       [6.9, 3.2, '5.7', '2.3'],\n       [6.5, 3.2, '5.1', '2.0'],\n       [5.8, 2.8, '5.1', '2.4'],\n       [5.1, 3.8, '1.5', '0.3'],\n       [4.8, 3.0, '1.4', '0.3'],\n       [7.9, 3.8, '6.4', '2.0'],\n       [5.8, 2.7, '5.1', '1.9'],\n       [6.7, 3.0, '5.2', '2.3'],\n       [5.1, 3.8, '1.9', '0.4'],\n       [4.7, 3.2, '1.6', '0.2'],\n       [6.0, 2.2, '5.0', '1.5'],\n       [4.8, 3.4, '1.6', '0.2'],\n       [7.7, 2.6, '6.9', '2.3'],\n       [4.6, 3.6, '1.0', '0.2'],\n       [7.2, 3.2, '6.0', '1.8'],\n       [5.0, 3.3, '1.4', '0.2'],\n       [6.6, 3.0, '4.4', '1.4'],\n       [6.1, 2.8, '4.0', '1.3'],\n       [5.0, 3.2, '1.2', '0.2'],\n       [7.0, 3.2, '4.7', '1.4'],\n       [6.0, 3.0, '4.8', '1.8'],\n       [7.4, 2.8, '6.1', '1.9'],\n       [5.8, 2.7, '5.1', '1.9'],\n       [6.2, 3.4, '5.4', '2.3'],\n       [5.0, 2.0, '3.5', '1.0'],\n       [5.6, 2.5, '3.9', '1.1'],\n       [6.7, 3.1, '5.6', '2.4'],\n       [6.3, 2.5, '5.0', '1.9'],\n       [6.4, 3.1, '5.5', '1.8'],\n       [6.2, 2.2, '4.5', '1.5'],\n       [7.3, 2.9, '6.3', '1.8'],\n       [4.4, 3.0, '1.3', '0.2'],\n       [7.2, 3.6, '6.1', '2.5'],\n       [6.5, 3.0, '5.5', '1.8'],\n       [5.0, 3.4, '1.5', '0.2'],\n       [4.7, 3.2, '1.3', '0.2'],\n       [6.6, 2.9, '4.6', '1.3'],\n       [5.5, 3.5, '1.3', '0.2'],\n       [7.7, 3.0, '6.1', '2.3'],\n       [6.1, 3.0, '4.9', '1.8'],\n       [4.9, 3.1, '1.5', '0.1'],\n       [5.5, 2.4, '3.8', '1.1'],\n       [5.7, 2.9, '4.2', '1.3'],\n       [6.0, 2.9, '4.5', '1.5'],\n       [6.4, 2.7, '5.3', '1.9'],\n       [5.4, 3.7, '1.5', '0.2'],\n       [6.1, 2.9, '4.7', '1.4'],\n       [6.5, 2.8, '4.6', '1.5'],\n       [5.6, 2.7, '4.2', '1.3'],\n       [6.3, 3.4, '5.6', '2.4'],\n       [4.9, 3.1, '1.5', '0.1'],\n       [6.8, 2.8, '4.8', '1.4'],\n       [5.7, 2.8, '4.5', '1.3'],\n       [6.0, 2.7, '5.1', '1.6'],\n       [5.0, 3.5, '1.3', '0.3'],\n       [6.5, 3.0, '5.2', '2.0'],\n       [6.1, 2.8, '4.7', '1.2'],\n       [5.1, 3.5, '1.4', '0.3'],\n       [4.6, 3.1, '1.5', '0.2'],\n       [6.5, 3.0, '5.8', '2.2'],\n       [4.6, 3.4, '1.4', '0.3'],\n       [4.6, 3.2, '1.4', '0.2'],\n       [7.7, 2.8, '6.7', '2.0'],\n       [5.9, 3.2, '4.8', '1.8'],\n       [5.1, 3.8, '1.6', '0.2'],\n       [4.9, 3.0, '1.4', '0.2'],\n       [4.9, 2.4, '3.3', '1.0'],\n       [4.5, 2.3, '1.3', '0.3'],\n       [5.8, 2.7, '4.1', '1.0'],\n       [5.0, 3.4, '1.6', '0.4'],\n       [5.2, 3.4, '1.4', '0.2'],\n       [5.3, 3.7, '1.5', '0.2'],\n       [5.0, 3.6, '1.4', '0.2'],\n       [5.6, 2.9, '3.6', '1.3'],\n       [4.8, 3.1, '1.6', '0.2'],\n       [6.3, 2.7, '4.9', '1.8'],\n       [5.7, 2.8, '4.1', '1.3'],\n       [5.0, 3.0, '1.6', '0.2'],\n       [6.3, 3.3, '6.0', '2.5'],\n       [5.0, 3.5, '1.6', '0.6'],\n       [5.5, 2.6, '4.4', '1.2'],\n       [5.7, 3.0, '4.2', '1.2'],\n       [4.4, 2.9, '1.4', '0.2'],\n       [4.8, 3.0, '1.4', '0.1'],\n       [5.5, 2.4, '3.7', '1.0']], dtype=object)"
     },
     "execution_count": 50,
     "metadata": {},
     "output_type": "execute_result"
    }
   ],
   "source": [
    "x"
   ],
   "metadata": {
    "collapsed": false,
    "pycharm": {
     "name": "#%%\n"
    }
   }
  },
  {
   "cell_type": "code",
   "execution_count": 79,
   "outputs": [
    {
     "name": "stdout",
     "output_type": "stream",
     "text": [
      "Epoch 1/30\n",
      "4/4 [==============================] - 0s 666us/step - loss: 1.6188 - accuracy: 0.3379\b\b\b\b\b\b\b\b\b\b\b\b\b\b\b\b\b\b\b\b\b\b\b\b\b\b\b\b\b\b\b\b\b\b\b\b\b\b\b\b\b\b\b\b\b\b\b\b\b\b\b\b\b\b\b\b\b\b\b\b\b\b\b\b\b\b\b\b\b\b\b\b\b\b\n",
      "Epoch 2/30\n",
      "4/4 [==============================] - 0s 333us/step - loss: 1.0153 - accuracy: 0.4331\b\b\b\b\b\b\b\b\b\b\b\b\b\b\b\b\b\b\b\b\b\b\b\b\b\b\b\b\b\b\b\b\b\b\b\b\b\b\b\b\b\b\b\b\b\b\b\b\b\b\b\b\b\b\b\b\b\b\b\b\b\b\b\b\b\b\b\b\b\b\b\b\b\b\n",
      "Epoch 3/30\n",
      "4/4 [==============================] - 0s 667us/step - loss: 0.9992 - accuracy: 0.5590\b\b\b\b\b\b\b\b\b\b\b\b\b\b\b\b\b\b\b\b\b\b\b\b\b\b\b\b\b\b\b\b\b\b\b\b\b\b\b\b\b\b\b\b\b\b\b\b\b\b\b\b\b\b\b\b\b\b\b\b\b\b\b\b\b\b\b\b\b\b\b\b\b\b\n",
      "Epoch 4/30\n",
      "4/4 [==============================] - 0s 667us/step - loss: 0.9274 - accuracy: 0.6233\b\b\b\b\b\b\b\b\b\b\b\b\b\b\b\b\b\b\b\b\b\b\b\b\b\b\b\b\b\b\b\b\b\b\b\b\b\b\b\b\b\b\b\b\b\b\b\b\b\b\b\b\b\b\b\b\b\b\b\b\b\b\b\b\b\b\b\b\b\b\b\b\b\b\n",
      "Epoch 5/30\n",
      "4/4 [==============================] - 0s 667us/step - loss: 0.8766 - accuracy: 0.7110\b\b\b\b\b\b\b\b\b\b\b\b\b\b\b\b\b\b\b\b\b\b\b\b\b\b\b\b\b\b\b\b\b\b\b\b\b\b\b\b\b\b\b\b\b\b\b\b\b\b\b\b\b\b\b\b\b\b\b\b\b\b\b\b\b\b\b\b\b\b\b\b\b\b\n",
      "Epoch 6/30\n",
      "4/4 [==============================] - 0s 333us/step - loss: 0.8410 - accuracy: 0.6898\b\b\b\b\b\b\b\b\b\b\b\b\b\b\b\b\b\b\b\b\b\b\b\b\b\b\b\b\b\b\b\b\b\b\b\b\b\b\b\b\b\b\b\b\b\b\b\b\b\b\b\b\b\b\b\b\b\b\b\b\b\b\b\b\b\b\b\b\b\b\b\b\b\b\n",
      "Epoch 7/30\n",
      "4/4 [==============================] - 0s 333us/step - loss: 0.8016 - accuracy: 0.7290\b\b\b\b\b\b\b\b\b\b\b\b\b\b\b\b\b\b\b\b\b\b\b\b\b\b\b\b\b\b\b\b\b\b\b\b\b\b\b\b\b\b\b\b\b\b\b\b\b\b\b\b\b\b\b\b\b\b\b\b\b\b\b\b\b\b\b\b\b\b\b\b\b\b\n",
      "Epoch 8/30\n",
      "4/4 [==============================] - 0s 667us/step - loss: 0.7665 - accuracy: 0.6781\b\b\b\b\b\b\b\b\b\b\b\b\b\b\b\b\b\b\b\b\b\b\b\b\b\b\b\b\b\b\b\b\b\b\b\b\b\b\b\b\b\b\b\b\b\b\b\b\b\b\b\b\b\b\b\b\b\b\b\b\b\b\b\b\b\b\b\b\b\b\b\b\b\b\n",
      "Epoch 9/30\n",
      "4/4 [==============================] - 0s 668us/step - loss: 0.7225 - accuracy: 0.7165\b\b\b\b\b\b\b\b\b\b\b\b\b\b\b\b\b\b\b\b\b\b\b\b\b\b\b\b\b\b\b\b\b\b\b\b\b\b\b\b\b\b\b\b\b\b\b\b\b\b\b\b\b\b\b\b\b\b\b\b\b\b\b\b\b\b\b\b\b\b\b\b\b\b\n",
      "Epoch 10/30\n",
      "4/4 [==============================] - 0s 667us/step - loss: 0.6836 - accuracy: 0.7475\b\b\b\b\b\b\b\b\b\b\b\b\b\b\b\b\b\b\b\b\b\b\b\b\b\b\b\b\b\b\b\b\b\b\b\b\b\b\b\b\b\b\b\b\b\b\b\b\b\b\b\b\b\b\b\b\b\b\b\b\b\b\b\b\b\b\b\b\b\b\b\b\b\b\n",
      "Epoch 11/30\n",
      "4/4 [==============================] - 0s 333us/step - loss: 0.6584 - accuracy: 0.7827\b\b\b\b\b\b\b\b\b\b\b\b\b\b\b\b\b\b\b\b\b\b\b\b\b\b\b\b\b\b\b\b\b\b\b\b\b\b\b\b\b\b\b\b\b\b\b\b\b\b\b\b\b\b\b\b\b\b\b\b\b\b\b\b\b\b\b\b\b\b\b\b\b\b\n",
      "Epoch 12/30\n",
      "4/4 [==============================] - 0s 333us/step - loss: 0.6347 - accuracy: 0.7598\b\b\b\b\b\b\b\b\b\b\b\b\b\b\b\b\b\b\b\b\b\b\b\b\b\b\b\b\b\b\b\b\b\b\b\b\b\b\b\b\b\b\b\b\b\b\b\b\b\b\b\b\b\b\b\b\b\b\b\b\b\b\b\b\b\b\b\b\b\b\b\b\b\b\n",
      "Epoch 13/30\n",
      "4/4 [==============================] - 0s 667us/step - loss: 0.6127 - accuracy: 0.8121\b\b\b\b\b\b\b\b\b\b\b\b\b\b\b\b\b\b\b\b\b\b\b\b\b\b\b\b\b\b\b\b\b\b\b\b\b\b\b\b\b\b\b\b\b\b\b\b\b\b\b\b\b\b\b\b\b\b\b\b\b\b\b\b\b\b\b\b\b\b\b\b\b\b\n",
      "Epoch 14/30\n",
      "4/4 [==============================] - 0s 667us/step - loss: 0.6090 - accuracy: 0.7715\b\b\b\b\b\b\b\b\b\b\b\b\b\b\b\b\b\b\b\b\b\b\b\b\b\b\b\b\b\b\b\b\b\b\b\b\b\b\b\b\b\b\b\b\b\b\b\b\b\b\b\b\b\b\b\b\b\b\b\b\b\b\b\b\b\b\b\b\b\b\b\b\b\b\n",
      "Epoch 15/30\n",
      "4/4 [==============================] - 0s 667us/step - loss: 0.5765 - accuracy: 0.7821\b\b\b\b\b\b\b\b\b\b\b\b\b\b\b\b\b\b\b\b\b\b\b\b\b\b\b\b\b\b\b\b\b\b\b\b\b\b\b\b\b\b\b\b\b\b\b\b\b\b\b\b\b\b\b\b\b\b\b\b\b\b\b\b\b\b\b\b\b\b\b\b\b\b\n",
      "Epoch 16/30\n",
      "4/4 [==============================] - 0s 333us/step - loss: 0.5749 - accuracy: 0.8356\b\b\b\b\b\b\b\b\b\b\b\b\b\b\b\b\b\b\b\b\b\b\b\b\b\b\b\b\b\b\b\b\b\b\b\b\b\b\b\b\b\b\b\b\b\b\b\b\b\b\b\b\b\b\b\b\b\b\b\b\b\b\b\b\b\b\b\b\b\b\b\b\b\b\n",
      "Epoch 17/30\n",
      "4/4 [==============================] - 0s 667us/step - loss: 0.5629 - accuracy: 0.8035\b\b\b\b\b\b\b\b\b\b\b\b\b\b\b\b\b\b\b\b\b\b\b\b\b\b\b\b\b\b\b\b\b\b\b\b\b\b\b\b\b\b\b\b\b\b\b\b\b\b\b\b\b\b\b\b\b\b\b\b\b\b\b\b\b\b\b\b\b\b\b\b\b\b\n",
      "Epoch 18/30\n",
      "4/4 [==============================] - 0s 667us/step - loss: 0.5678 - accuracy: 0.8090\b\b\b\b\b\b\b\b\b\b\b\b\b\b\b\b\b\b\b\b\b\b\b\b\b\b\b\b\b\b\b\b\b\b\b\b\b\b\b\b\b\b\b\b\b\b\b\b\b\b\b\b\b\b\b\b\b\b\b\b\b\b\b\b\b\b\b\b\b\b\b\b\b\b\n",
      "Epoch 19/30\n",
      "4/4 [==============================] - 0s 333us/step - loss: 0.5610 - accuracy: 0.7958\b\b\b\b\b\b\b\b\b\b\b\b\b\b\b\b\b\b\b\b\b\b\b\b\b\b\b\b\b\b\b\b\b\b\b\b\b\b\b\b\b\b\b\b\b\b\b\b\b\b\b\b\b\b\b\b\b\b\b\b\b\b\b\b\b\b\b\b\b\b\b\b\b\b\n",
      "Epoch 20/30\n",
      "4/4 [==============================] - 0s 667us/step - loss: 0.5893 - accuracy: 0.7002\b\b\b\b\b\b\b\b\b\b\b\b\b\b\b\b\b\b\b\b\b\b\b\b\b\b\b\b\b\b\b\b\b\b\b\b\b\b\b\b\b\b\b\b\b\b\b\b\b\b\b\b\b\b\b\b\b\b\b\b\b\b\b\b\b\b\b\b\b\b\b\b\b\b\n",
      "Epoch 21/30\n",
      "4/4 [==============================] - 0s 666us/step - loss: 0.5402 - accuracy: 0.7721\b\b\b\b\b\b\b\b\b\b\b\b\b\b\b\b\b\b\b\b\b\b\b\b\b\b\b\b\b\b\b\b\b\b\b\b\b\b\b\b\b\b\b\b\b\b\b\b\b\b\b\b\b\b\b\b\b\b\b\b\b\b\b\b\b\b\b\b\b\b\b\b\b\b\n",
      "Epoch 22/30\n",
      "4/4 [==============================] - 0s 334us/step - loss: 0.5556 - accuracy: 0.8427\b\b\b\b\b\b\b\b\b\b\b\b\b\b\b\b\b\b\b\b\b\b\b\b\b\b\b\b\b\b\b\b\b\b\b\b\b\b\b\b\b\b\b\b\b\b\b\b\b\b\b\b\b\b\b\b\b\b\b\b\b\b\b\b\b\b\b\b\b\b\b\b\b\b\n",
      "Epoch 23/30\n",
      "4/4 [==============================] - 0s 667us/step - loss: 0.5599 - accuracy: 0.8008\b\b\b\b\b\b\b\b\b\b\b\b\b\b\b\b\b\b\b\b\b\b\b\b\b\b\b\b\b\b\b\b\b\b\b\b\b\b\b\b\b\b\b\b\b\b\b\b\b\b\b\b\b\b\b\b\b\b\b\b\b\b\b\b\b\b\b\b\b\b\b\b\b\b\n",
      "Epoch 24/30\n",
      "4/4 [==============================] - 0s 667us/step - loss: 0.5285 - accuracy: 0.7715\b\b\b\b\b\b\b\b\b\b\b\b\b\b\b\b\b\b\b\b\b\b\b\b\b\b\b\b\b\b\b\b\b\b\b\b\b\b\b\b\b\b\b\b\b\b\b\b\b\b\b\b\b\b\b\b\b\b\b\b\b\b\b\b\b\b\b\b\b\b\b\b\b\b\n",
      "Epoch 25/30\n",
      "4/4 [==============================] - 0s 333us/step - loss: 0.5280 - accuracy: 0.8177\b\b\b\b\b\b\b\b\b\b\b\b\b\b\b\b\b\b\b\b\b\b\b\b\b\b\b\b\b\b\b\b\b\b\b\b\b\b\b\b\b\b\b\b\b\b\b\b\b\b\b\b\b\b\b\b\b\b\b\b\b\b\b\b\b\b\b\b\b\b\b\b\b\b\n",
      "Epoch 26/30\n",
      "4/4 [==============================] - 0s 667us/step - loss: 0.5089 - accuracy: 0.7483\b\b\b\b\b\b\b\b\b\b\b\b\b\b\b\b\b\b\b\b\b\b\b\b\b\b\b\b\b\b\b\b\b\b\b\b\b\b\b\b\b\b\b\b\b\b\b\b\b\b\b\b\b\b\b\b\b\b\b\b\b\b\b\b\b\b\b\b\b\b\b\b\b\b\n",
      "Epoch 27/30\n",
      "4/4 [==============================] - 0s 666us/step - loss: 0.5300 - accuracy: 0.8348\b\b\b\b\b\b\b\b\b\b\b\b\b\b\b\b\b\b\b\b\b\b\b\b\b\b\b\b\b\b\b\b\b\b\b\b\b\b\b\b\b\b\b\b\b\b\b\b\b\b\b\b\b\b\b\b\b\b\b\b\b\b\b\b\b\b\b\b\b\b\b\b\b\b\n",
      "Epoch 28/30\n",
      "4/4 [==============================] - 0s 333us/step - loss: 0.5165 - accuracy: 0.7856\b\b\b\b\b\b\b\b\b\b\b\b\b\b\b\b\b\b\b\b\b\b\b\b\b\b\b\b\b\b\b\b\b\b\b\b\b\b\b\b\b\b\b\b\b\b\b\b\b\b\b\b\b\b\b\b\b\b\b\b\b\b\b\b\b\b\b\b\b\b\b\b\b\b\n",
      "Epoch 29/30\n",
      "4/4 [==============================] - 0s 666us/step - loss: 0.5167 - accuracy: 0.7879\b\b\b\b\b\b\b\b\b\b\b\b\b\b\b\b\b\b\b\b\b\b\b\b\b\b\b\b\b\b\b\b\b\b\b\b\b\b\b\b\b\b\b\b\b\b\b\b\b\b\b\b\b\b\b\b\b\b\b\b\b\b\b\b\b\b\b\b\b\b\b\b\b\b\n",
      "Epoch 30/30\n",
      "4/4 [==============================] - 0s 667us/step - loss: 0.4729 - accuracy: 0.8498\b\b\b\b\b\b\b\b\b\b\b\b\b\b\b\b\b\b\b\b\b\b\b\b\b\b\b\b\b\b\b\b\b\b\b\b\b\b\b\b\b\b\b\b\b\b\b\b\b\b\b\b\b\b\b\b\b\b\b\b\b\b\b\b\b\b\b\b\b\b\b\b\b\b\n",
      "WARNING:tensorflow:11 out of the last 11 calls to <function Model.make_predict_function.<locals>.predict_function at 0x000001E4C700D558> triggered tf.function retracing. Tracing is expensive and the excessive number of tracings could be due to (1) creating @tf.function repeatedly in a loop, (2) passing tensors with different shapes, (3) passing Python objects instead of tensors. For (1), please define your @tf.function outside of the loop. For (2), @tf.function has experimental_relax_shapes=True option that relaxes argument shapes that can avoid unnecessary retracing. For (3), please refer to https://www.tensorflow.org/guide/function#controlling_retracing and https://www.tensorflow.org/api_docs/python/tf/function for  more details.\n"
     ]
    },
    {
     "data": {
      "text/plain": "array([[0.01340879, 0.32378495, 0.66280633],\n       [0.195158  , 0.4547125 , 0.35012946],\n       [0.02427146, 0.30084762, 0.67488086],\n       [0.8021906 , 0.15832065, 0.03948878],\n       [0.8377712 , 0.13778551, 0.02444331]], dtype=float32)"
     },
     "execution_count": 79,
     "metadata": {},
     "output_type": "execute_result"
    }
   ],
   "source": [
    "model = Sequential([\n",
    "    Dense(10, activation=tf.nn.relu),\n",
    "    Dense(3, activation=tf.nn.softmax)\n",
    "])\n",
    "# model.compile(loss='categorical_crossentropy', metrics='accuracy')\n",
    "model.compile(loss='sparse_categorical_crossentropy', optimizer='sgd', metrics='accuracy')\n",
    "model.fit(np.array(x).astype(np.float32), np.array(y).astype(np.float32), epochs=30)\n",
    "#\n",
    "pr = model.predict(np.array(x[:5]).astype(np.float32))\n",
    "pr"
   ],
   "metadata": {
    "collapsed": false,
    "pycharm": {
     "name": "#%%\n"
    }
   }
  },
  {
   "cell_type": "code",
   "execution_count": 77,
   "outputs": [
    {
     "name": "stdout",
     "output_type": "stream",
     "text": [
      "['2' '1' '2' '0' '0']\n",
      "샘플 0 예측: 2 (48.1%)\n",
      "샘플 1 예측: 1 (38.7%)\n",
      "샘플 2 예측: 2 (44.3%)\n",
      "샘플 3 예측: 0 (51.8%)\n",
      "샘플 4 예측: 0 (53.6%)\n"
     ]
    }
   ],
   "source": [
    "print(y[:5])\n",
    "for i, logits in enumerate(pr):\n",
    "  class_idx = tf.argmax(logits).numpy()\n",
    "  p = tf.nn.softmax(logits)[class_idx]\n",
    "  print(\"샘플 {} 예측: {} ({:4.1f}%)\".format(i, class_idx, 100*p))"
   ],
   "metadata": {
    "collapsed": false,
    "pycharm": {
     "name": "#%%\n"
    }
   }
  },
  {
   "cell_type": "code",
   "execution_count": 4,
   "outputs": [
    {
     "name": "stdout",
     "output_type": "stream",
     "text": [
      "eee\n"
     ]
    }
   ],
   "source": [],
   "metadata": {
    "collapsed": false,
    "pycharm": {
     "name": "#%%"
    }
   }
  }
 ],
 "metadata": {
  "kernelspec": {
   "name": "python3",
   "language": "python",
   "display_name": "Python 3"
  },
  "language_info": {
   "codemirror_mode": {
    "name": "ipython",
    "version": 2
   },
   "file_extension": ".py",
   "mimetype": "text/x-python",
   "name": "python",
   "nbconvert_exporter": "python",
   "pygments_lexer": "ipython2",
   "version": "2.7.6"
  }
 },
 "nbformat": 4,
 "nbformat_minor": 0
}
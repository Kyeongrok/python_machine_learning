{
 "cells": [
  {
   "cell_type": "markdown",
   "source": [
    "## 물건의 수요량 예측\n",
    "댓글 5만개를 읽어서 다음주의 수요량을 예측 하는 모델을 만든다.\n",
    "LSTM모델을 이용할 것입니다.\n",
    "\n",
    "몇개가 팔릴 것인지를 예측해야 한다.\n",
    "\n",
    "### 데이터 수집\n",
    "https://smartstore.naver.com/i/v1/reviews/paged-reviews?page=4&pageSize=20&merchantNo=500071344&originProductNo=280423930&sortType=REVIEW_CREATE_DATE_DESC\n",
    "\n",
    "네이버 쇼핑 검색 결과에서 특정 물건의 모든 댓글 정보를 모두 수집 합니다.\n",
    "한페이지에 30개씩 1692번 콜하면 모든 댓글 수집이 가능 합니다."
   ],
   "metadata": {
    "collapsed": false,
    "pycharm": {
     "name": "#%% md\n"
    }
   }
  },
  {
   "cell_type": "code",
   "execution_count": 46,
   "metadata": {
    "collapsed": true
   },
   "outputs": [],
   "source": [
    "import pandas as pd\n",
    "from datetime import datetime\n",
    "\n",
    "# df = pd.read_json('r.json', dtype={'createDate':'date'})\n",
    "df = pd.read_json('r.json')\n",
    "df.index = df['id']\n",
    "df['createDate'] = pd.to_datetime(df['createDate'], format=\"%Y-%m-%d\")\n",
    "# df['createDate']=df['createDate'].apply(lambda _ : datetime.strptime(_,'%Y%m%d'))"
   ]
  },
  {
   "cell_type": "code",
   "execution_count": 47,
   "outputs": [
    {
     "data": {
      "text/plain": "                  id reviewServiceType reviewType reviewContentClassType  \\\nid                                                                         \n752808213  752808213          SELLBLOG  AFTER_USE                   TEXT   \n752801857  752801857          SELLBLOG     NORMAL                  PHOTO   \n752796423  752796423          SELLBLOG     NORMAL                  PHOTO   \n752790791  752790791          SELLBLOG  AFTER_USE                   TEXT   \n752788406  752788406          SELLBLOG     NORMAL                  PHOTO   \n...              ...               ...        ...                    ...   \n879823199  879823199          SELLBLOG     NORMAL                   TEXT   \n879788303  879788303          SELLBLOG     NORMAL                   TEXT   \n879768831  879768831          SELLBLOG     NORMAL                   TEXT   \n879757645  879757645          SELLBLOG     NORMAL                   TEXT   \n879728447  879728447          SELLBLOG     NORMAL                  PHOTO   \n\n                                               reviewContent  \\\nid                                                             \n752808213                         잘쓰고있습니다 좋네요 다음에 또 구매하겠습니다.   \n752801857                                         감사합니다~~~~~   \n752796423                             배송 빠르고 상품. 가격 모두 만족합니다   \n752790791                                       아주  좋와요~~~^^   \n752788406  방석이 없으면 몸이 흘러내려가는게 단점이라면 단점이지만 그 외에는 편하고 사무일하기...   \n...                                                      ...   \n879823199                       가성비가 좋아요 다음에 산다면 옵션을 추가할꺼같아요   \n879788303                                  주문제작임에도 빠른배송감사합니다   \n879768831                                      전반적으로 마음에 들어요   \n879757645                                       조리편하고 가성비좋네요   \n879728447                                가격과 디자인 모두 마음에 쏙듭니다   \n\n                         createDate reviewDisplayStatusType  repurchase  \\\nid                                                                        \n752808213 2019-11-07 10:06:46+00:00                  NORMAL         1.0   \n752801857 2019-11-07 09:53:50+00:00                  NORMAL         NaN   \n752796423 2019-11-07 09:42:38+00:00                  NORMAL         NaN   \n752790791 2019-11-07 09:30:48+00:00                  NORMAL         NaN   \n752788406 2019-11-07 09:25:51+00:00                  NORMAL         NaN   \n...                             ...                     ...         ...   \n879823199 2020-06-20 02:38:29+00:00                  NORMAL         NaN   \n879788303 2020-06-20 01:33:35+00:00                  NORMAL         NaN   \n879768831 2020-06-20 00:53:30+00:00                  NORMAL         NaN   \n879757645 2020-06-20 00:28:27+00:00                  NORMAL         NaN   \n879728447 2020-06-19 23:06:02+00:00                  NORMAL         NaN   \n\n           reviewScore  reviewRankingScore  ...  productNo  \\\nid                                          ...              \n752808213            5          -78.117270  ...  280423930   \n752801857            5          -78.087470  ...  280423930   \n752796423            5          -78.000680  ...  280423930   \n752790791            5          -78.236910  ...  280423930   \n752788406            4          -77.969154  ...  280423930   \n...                ...                 ...  ...        ...   \n879823199            5          -76.436905  ...  280423930   \n879788303            5          -76.509500  ...  280423930   \n879768831            4          -76.527270  ...  280423930   \n879757645            5          -76.508316  ...  280423930   \n879728447            5          -76.273120  ...  280423930   \n\n                      productName                 productOptionContent  \\\nid                                                                       \n752808213     체어스코 네이처 컴퓨터의자 책상의자            제품명: 네이처 스탠다드 / 색상: 라임오렌지   \n752801857     체어스코 네이처 컴퓨터의자 책상의자            제품명: 네이처 베이직 / 색상: 노블레스블랙   \n752796423     체어스코 네이처 컴퓨터의자 책상의자            제품명: 네이처 베이직 / 색상: 노블레스블랙   \n752790791     체어스코 네이처 컴퓨터의자 책상의자           제품명: 네이처 리얼라텍스 / 색상: 파이어와인   \n752788406     체어스코 네이처 컴퓨터의자 책상의자           제품명: 네이처 리얼라텍스 / 색상: 인텔그레이   \n...                           ...                                  ...   \n879823199  체어스코 의자 네이처 책상의자 컴퓨터의자       제품선택: 블랙바디 기본 세트 / 색상선택: 옐로우그린   \n879788303  체어스코 의자 네이처 책상의자 컴퓨터의자     제품선택: 블랙바디 허리받침 세트 / 색상선택: 메탈그레이   \n879768831  체어스코 의자 네이처 책상의자 컴퓨터의자  제품선택: 블랙바디 라텍스+허리받침 세트 / 색상선택: 퓨어블랙   \n879757645  체어스코 의자 네이처 책상의자 컴퓨터의자        제품선택: 블랙바디 기본 세트 / 색상선택: 퓨어블랙   \n879728447  체어스코 의자 네이처 책상의자 컴퓨터의자      제품선택: 블랙바디 라텍스 세트 / 색상선택: 메탈그레이   \n\n          largeCategorizeCategoryId  middleCategorizeCategoryId  \\\nid                                                                \n752808213                  50000004                    50000105   \n752801857                  50000004                    50000105   \n752796423                  50000004                    50000105   \n752790791                  50000004                    50000105   \n752788406                  50000004                    50000105   \n...                             ...                         ...   \n879823199                  50000004                    50000105   \n879788303                  50000004                    50000105   \n879768831                  50000004                    50000105   \n879757645                  50000004                    50000105   \n879728447                  50000004                    50000105   \n\n          smallCategorizeCategoryId  detailCategorizeCategoryId  \\\nid                                                                \n752808213                  50001240                    50003299   \n752801857                  50001240                    50003299   \n752796423                  50001240                    50003299   \n752790791                  50001240                    50003299   \n752788406                  50001240                    50003299   \n...                             ...                         ...   \n879823199                  50001240                    50003299   \n879788303                  50001240                    50003299   \n879768831                  50001240                    50003299   \n879757645                  50001240                    50003299   \n879728447                  50001240                    50003299   \n\n                                                  productUrl originProductNo  \\\nid                                                                             \n752808213  https://smartstore.naver.com/main/products/280...       280423930   \n752801857  https://smartstore.naver.com/main/products/280...       280423930   \n752796423  https://smartstore.naver.com/main/products/280...       280423930   \n752790791  https://smartstore.naver.com/main/products/280...       280423930   \n752788406  https://smartstore.naver.com/main/products/280...       280423930   \n...                                                      ...             ...   \n879823199  https://smartstore.naver.com/main/products/280...       280423930   \n879788303  https://smartstore.naver.com/main/products/280...       280423930   \n879768831  https://smartstore.naver.com/main/products/280...       280423930   \n879757645  https://smartstore.naver.com/main/products/280...       280423930   \n879728447  https://smartstore.naver.com/main/products/280...       280423930   \n\n          eventTitle  \nid                    \n752808213             \n752801857             \n752796423             \n752790791             \n752788406             \n...              ...  \n879823199             \n879788303             \n879768831             \n879757645             \n879728447             \n\n[50750 rows x 30 columns]",
      "text/html": "<div>\n<style scoped>\n    .dataframe tbody tr th:only-of-type {\n        vertical-align: middle;\n    }\n\n    .dataframe tbody tr th {\n        vertical-align: top;\n    }\n\n    .dataframe thead th {\n        text-align: right;\n    }\n</style>\n<table border=\"1\" class=\"dataframe\">\n  <thead>\n    <tr style=\"text-align: right;\">\n      <th></th>\n      <th>id</th>\n      <th>reviewServiceType</th>\n      <th>reviewType</th>\n      <th>reviewContentClassType</th>\n      <th>reviewContent</th>\n      <th>createDate</th>\n      <th>reviewDisplayStatusType</th>\n      <th>repurchase</th>\n      <th>reviewScore</th>\n      <th>reviewRankingScore</th>\n      <th>...</th>\n      <th>productNo</th>\n      <th>productName</th>\n      <th>productOptionContent</th>\n      <th>largeCategorizeCategoryId</th>\n      <th>middleCategorizeCategoryId</th>\n      <th>smallCategorizeCategoryId</th>\n      <th>detailCategorizeCategoryId</th>\n      <th>productUrl</th>\n      <th>originProductNo</th>\n      <th>eventTitle</th>\n    </tr>\n    <tr>\n      <th>id</th>\n      <th></th>\n      <th></th>\n      <th></th>\n      <th></th>\n      <th></th>\n      <th></th>\n      <th></th>\n      <th></th>\n      <th></th>\n      <th></th>\n      <th></th>\n      <th></th>\n      <th></th>\n      <th></th>\n      <th></th>\n      <th></th>\n      <th></th>\n      <th></th>\n      <th></th>\n      <th></th>\n      <th></th>\n    </tr>\n  </thead>\n  <tbody>\n    <tr>\n      <th>752808213</th>\n      <td>752808213</td>\n      <td>SELLBLOG</td>\n      <td>AFTER_USE</td>\n      <td>TEXT</td>\n      <td>잘쓰고있습니다 좋네요 다음에 또 구매하겠습니다.</td>\n      <td>2019-11-07 10:06:46+00:00</td>\n      <td>NORMAL</td>\n      <td>1.0</td>\n      <td>5</td>\n      <td>-78.117270</td>\n      <td>...</td>\n      <td>280423930</td>\n      <td>체어스코 네이처 컴퓨터의자 책상의자</td>\n      <td>제품명: 네이처 스탠다드 / 색상: 라임오렌지</td>\n      <td>50000004</td>\n      <td>50000105</td>\n      <td>50001240</td>\n      <td>50003299</td>\n      <td>https://smartstore.naver.com/main/products/280...</td>\n      <td>280423930</td>\n      <td></td>\n    </tr>\n    <tr>\n      <th>752801857</th>\n      <td>752801857</td>\n      <td>SELLBLOG</td>\n      <td>NORMAL</td>\n      <td>PHOTO</td>\n      <td>감사합니다~~~~~</td>\n      <td>2019-11-07 09:53:50+00:00</td>\n      <td>NORMAL</td>\n      <td>NaN</td>\n      <td>5</td>\n      <td>-78.087470</td>\n      <td>...</td>\n      <td>280423930</td>\n      <td>체어스코 네이처 컴퓨터의자 책상의자</td>\n      <td>제품명: 네이처 베이직 / 색상: 노블레스블랙</td>\n      <td>50000004</td>\n      <td>50000105</td>\n      <td>50001240</td>\n      <td>50003299</td>\n      <td>https://smartstore.naver.com/main/products/280...</td>\n      <td>280423930</td>\n      <td></td>\n    </tr>\n    <tr>\n      <th>752796423</th>\n      <td>752796423</td>\n      <td>SELLBLOG</td>\n      <td>NORMAL</td>\n      <td>PHOTO</td>\n      <td>배송 빠르고 상품. 가격 모두 만족합니다</td>\n      <td>2019-11-07 09:42:38+00:00</td>\n      <td>NORMAL</td>\n      <td>NaN</td>\n      <td>5</td>\n      <td>-78.000680</td>\n      <td>...</td>\n      <td>280423930</td>\n      <td>체어스코 네이처 컴퓨터의자 책상의자</td>\n      <td>제품명: 네이처 베이직 / 색상: 노블레스블랙</td>\n      <td>50000004</td>\n      <td>50000105</td>\n      <td>50001240</td>\n      <td>50003299</td>\n      <td>https://smartstore.naver.com/main/products/280...</td>\n      <td>280423930</td>\n      <td></td>\n    </tr>\n    <tr>\n      <th>752790791</th>\n      <td>752790791</td>\n      <td>SELLBLOG</td>\n      <td>AFTER_USE</td>\n      <td>TEXT</td>\n      <td>아주  좋와요~~~^^</td>\n      <td>2019-11-07 09:30:48+00:00</td>\n      <td>NORMAL</td>\n      <td>NaN</td>\n      <td>5</td>\n      <td>-78.236910</td>\n      <td>...</td>\n      <td>280423930</td>\n      <td>체어스코 네이처 컴퓨터의자 책상의자</td>\n      <td>제품명: 네이처 리얼라텍스 / 색상: 파이어와인</td>\n      <td>50000004</td>\n      <td>50000105</td>\n      <td>50001240</td>\n      <td>50003299</td>\n      <td>https://smartstore.naver.com/main/products/280...</td>\n      <td>280423930</td>\n      <td></td>\n    </tr>\n    <tr>\n      <th>752788406</th>\n      <td>752788406</td>\n      <td>SELLBLOG</td>\n      <td>NORMAL</td>\n      <td>PHOTO</td>\n      <td>방석이 없으면 몸이 흘러내려가는게 단점이라면 단점이지만 그 외에는 편하고 사무일하기...</td>\n      <td>2019-11-07 09:25:51+00:00</td>\n      <td>NORMAL</td>\n      <td>NaN</td>\n      <td>4</td>\n      <td>-77.969154</td>\n      <td>...</td>\n      <td>280423930</td>\n      <td>체어스코 네이처 컴퓨터의자 책상의자</td>\n      <td>제품명: 네이처 리얼라텍스 / 색상: 인텔그레이</td>\n      <td>50000004</td>\n      <td>50000105</td>\n      <td>50001240</td>\n      <td>50003299</td>\n      <td>https://smartstore.naver.com/main/products/280...</td>\n      <td>280423930</td>\n      <td></td>\n    </tr>\n    <tr>\n      <th>...</th>\n      <td>...</td>\n      <td>...</td>\n      <td>...</td>\n      <td>...</td>\n      <td>...</td>\n      <td>...</td>\n      <td>...</td>\n      <td>...</td>\n      <td>...</td>\n      <td>...</td>\n      <td>...</td>\n      <td>...</td>\n      <td>...</td>\n      <td>...</td>\n      <td>...</td>\n      <td>...</td>\n      <td>...</td>\n      <td>...</td>\n      <td>...</td>\n      <td>...</td>\n      <td>...</td>\n    </tr>\n    <tr>\n      <th>879823199</th>\n      <td>879823199</td>\n      <td>SELLBLOG</td>\n      <td>NORMAL</td>\n      <td>TEXT</td>\n      <td>가성비가 좋아요 다음에 산다면 옵션을 추가할꺼같아요</td>\n      <td>2020-06-20 02:38:29+00:00</td>\n      <td>NORMAL</td>\n      <td>NaN</td>\n      <td>5</td>\n      <td>-76.436905</td>\n      <td>...</td>\n      <td>280423930</td>\n      <td>체어스코 의자 네이처 책상의자 컴퓨터의자</td>\n      <td>제품선택: 블랙바디 기본 세트 / 색상선택: 옐로우그린</td>\n      <td>50000004</td>\n      <td>50000105</td>\n      <td>50001240</td>\n      <td>50003299</td>\n      <td>https://smartstore.naver.com/main/products/280...</td>\n      <td>280423930</td>\n      <td></td>\n    </tr>\n    <tr>\n      <th>879788303</th>\n      <td>879788303</td>\n      <td>SELLBLOG</td>\n      <td>NORMAL</td>\n      <td>TEXT</td>\n      <td>주문제작임에도 빠른배송감사합니다</td>\n      <td>2020-06-20 01:33:35+00:00</td>\n      <td>NORMAL</td>\n      <td>NaN</td>\n      <td>5</td>\n      <td>-76.509500</td>\n      <td>...</td>\n      <td>280423930</td>\n      <td>체어스코 의자 네이처 책상의자 컴퓨터의자</td>\n      <td>제품선택: 블랙바디 허리받침 세트 / 색상선택: 메탈그레이</td>\n      <td>50000004</td>\n      <td>50000105</td>\n      <td>50001240</td>\n      <td>50003299</td>\n      <td>https://smartstore.naver.com/main/products/280...</td>\n      <td>280423930</td>\n      <td></td>\n    </tr>\n    <tr>\n      <th>879768831</th>\n      <td>879768831</td>\n      <td>SELLBLOG</td>\n      <td>NORMAL</td>\n      <td>TEXT</td>\n      <td>전반적으로 마음에 들어요</td>\n      <td>2020-06-20 00:53:30+00:00</td>\n      <td>NORMAL</td>\n      <td>NaN</td>\n      <td>4</td>\n      <td>-76.527270</td>\n      <td>...</td>\n      <td>280423930</td>\n      <td>체어스코 의자 네이처 책상의자 컴퓨터의자</td>\n      <td>제품선택: 블랙바디 라텍스+허리받침 세트 / 색상선택: 퓨어블랙</td>\n      <td>50000004</td>\n      <td>50000105</td>\n      <td>50001240</td>\n      <td>50003299</td>\n      <td>https://smartstore.naver.com/main/products/280...</td>\n      <td>280423930</td>\n      <td></td>\n    </tr>\n    <tr>\n      <th>879757645</th>\n      <td>879757645</td>\n      <td>SELLBLOG</td>\n      <td>NORMAL</td>\n      <td>TEXT</td>\n      <td>조리편하고 가성비좋네요</td>\n      <td>2020-06-20 00:28:27+00:00</td>\n      <td>NORMAL</td>\n      <td>NaN</td>\n      <td>5</td>\n      <td>-76.508316</td>\n      <td>...</td>\n      <td>280423930</td>\n      <td>체어스코 의자 네이처 책상의자 컴퓨터의자</td>\n      <td>제품선택: 블랙바디 기본 세트 / 색상선택: 퓨어블랙</td>\n      <td>50000004</td>\n      <td>50000105</td>\n      <td>50001240</td>\n      <td>50003299</td>\n      <td>https://smartstore.naver.com/main/products/280...</td>\n      <td>280423930</td>\n      <td></td>\n    </tr>\n    <tr>\n      <th>879728447</th>\n      <td>879728447</td>\n      <td>SELLBLOG</td>\n      <td>NORMAL</td>\n      <td>PHOTO</td>\n      <td>가격과 디자인 모두 마음에 쏙듭니다</td>\n      <td>2020-06-19 23:06:02+00:00</td>\n      <td>NORMAL</td>\n      <td>NaN</td>\n      <td>5</td>\n      <td>-76.273120</td>\n      <td>...</td>\n      <td>280423930</td>\n      <td>체어스코 의자 네이처 책상의자 컴퓨터의자</td>\n      <td>제품선택: 블랙바디 라텍스 세트 / 색상선택: 메탈그레이</td>\n      <td>50000004</td>\n      <td>50000105</td>\n      <td>50001240</td>\n      <td>50003299</td>\n      <td>https://smartstore.naver.com/main/products/280...</td>\n      <td>280423930</td>\n      <td></td>\n    </tr>\n  </tbody>\n</table>\n<p>50750 rows × 30 columns</p>\n</div>"
     },
     "execution_count": 47,
     "metadata": {},
     "output_type": "execute_result"
    }
   ],
   "source": [
    "df.iloc[:, 0:30]"
   ],
   "metadata": {
    "collapsed": false,
    "pycharm": {
     "name": "#%%\n"
    }
   }
  },
  {
   "cell_type": "code",
   "execution_count": 51,
   "outputs": [
    {
     "ename": "AttributeError",
     "evalue": "'Series' object has no attribute 'strftime'",
     "output_type": "error",
     "traceback": [
      "\u001B[0;31m---------------------------------------------------------------------------\u001B[0m",
      "\u001B[0;31mAttributeError\u001B[0m                            Traceback (most recent call last)",
      "\u001B[0;32m<ipython-input-51-003e979dbc27>\u001B[0m in \u001B[0;36m<module>\u001B[0;34m\u001B[0m\n\u001B[0;32m----> 1\u001B[0;31m \u001B[0mpd\u001B[0m\u001B[0;34m.\u001B[0m\u001B[0mto_datetime\u001B[0m\u001B[0;34m(\u001B[0m\u001B[0mdf\u001B[0m\u001B[0;34m[\u001B[0m\u001B[0;34m'createDate'\u001B[0m\u001B[0;34m]\u001B[0m\u001B[0;34m,\u001B[0m \u001B[0mformat\u001B[0m\u001B[0;34m=\u001B[0m\u001B[0;34m\"%Y-%m-%d\"\u001B[0m\u001B[0;34m)\u001B[0m\u001B[0;34m.\u001B[0m\u001B[0mstrftime\u001B[0m\u001B[0;34m(\u001B[0m\u001B[0;34m'%Y-%m'\u001B[0m\u001B[0;34m)\u001B[0m\u001B[0;34m\u001B[0m\u001B[0;34m\u001B[0m\u001B[0m\n\u001B[0m\u001B[1;32m      2\u001B[0m \u001B[0;34m\u001B[0m\u001B[0m\n",
      "\u001B[0;32m~/miniforge3_2/envs/tf6/lib/python3.8/site-packages/pandas/core/generic.py\u001B[0m in \u001B[0;36m__getattr__\u001B[0;34m(self, name)\u001B[0m\n\u001B[1;32m   5463\u001B[0m             \u001B[0;32mif\u001B[0m \u001B[0mself\u001B[0m\u001B[0;34m.\u001B[0m\u001B[0m_info_axis\u001B[0m\u001B[0;34m.\u001B[0m\u001B[0m_can_hold_identifiers_and_holds_name\u001B[0m\u001B[0;34m(\u001B[0m\u001B[0mname\u001B[0m\u001B[0;34m)\u001B[0m\u001B[0;34m:\u001B[0m\u001B[0;34m\u001B[0m\u001B[0;34m\u001B[0m\u001B[0m\n\u001B[1;32m   5464\u001B[0m                 \u001B[0;32mreturn\u001B[0m \u001B[0mself\u001B[0m\u001B[0;34m[\u001B[0m\u001B[0mname\u001B[0m\u001B[0;34m]\u001B[0m\u001B[0;34m\u001B[0m\u001B[0;34m\u001B[0m\u001B[0m\n\u001B[0;32m-> 5465\u001B[0;31m             \u001B[0;32mreturn\u001B[0m \u001B[0mobject\u001B[0m\u001B[0;34m.\u001B[0m\u001B[0m__getattribute__\u001B[0m\u001B[0;34m(\u001B[0m\u001B[0mself\u001B[0m\u001B[0;34m,\u001B[0m \u001B[0mname\u001B[0m\u001B[0;34m)\u001B[0m\u001B[0;34m\u001B[0m\u001B[0;34m\u001B[0m\u001B[0m\n\u001B[0m\u001B[1;32m   5466\u001B[0m \u001B[0;34m\u001B[0m\u001B[0m\n\u001B[1;32m   5467\u001B[0m     \u001B[0;32mdef\u001B[0m \u001B[0m__setattr__\u001B[0m\u001B[0;34m(\u001B[0m\u001B[0mself\u001B[0m\u001B[0;34m,\u001B[0m \u001B[0mname\u001B[0m\u001B[0;34m:\u001B[0m \u001B[0mstr\u001B[0m\u001B[0;34m,\u001B[0m \u001B[0mvalue\u001B[0m\u001B[0;34m)\u001B[0m \u001B[0;34m->\u001B[0m \u001B[0;32mNone\u001B[0m\u001B[0;34m:\u001B[0m\u001B[0;34m\u001B[0m\u001B[0;34m\u001B[0m\u001B[0m\n",
      "\u001B[0;31mAttributeError\u001B[0m: 'Series' object has no attribute 'strftime'"
     ]
    }
   ],
   "source": [
    "pd.to_datetime(df['createDate'], format=\"%Y-%m-%d\").strftime('%Y-%m')"
   ],
   "metadata": {
    "collapsed": false,
    "pycharm": {
     "name": "#%%\n"
    }
   }
  },
  {
   "cell_type": "code",
   "execution_count": 49,
   "outputs": [
    {
     "name": "stdout",
     "output_type": "stream",
     "text": [
      "<class 'pandas.core.frame.DataFrame'>\n",
      "Int64Index: 50750 entries, 752808213 to 879728447\n",
      "Data columns (total 48 columns):\n",
      " #   Column                          Non-Null Count  Dtype              \n",
      "---  ------                          --------------  -----              \n",
      " 0   id                              50750 non-null  int64              \n",
      " 1   reviewServiceType               50750 non-null  object             \n",
      " 2   reviewType                      50750 non-null  object             \n",
      " 3   reviewContentClassType          50750 non-null  object             \n",
      " 4   reviewContent                   50750 non-null  object             \n",
      " 5   createDate                      50750 non-null  datetime64[ns, UTC]\n",
      " 6   reviewDisplayStatusType         50750 non-null  object             \n",
      " 7   repurchase                      11429 non-null  float64            \n",
      " 8   reviewScore                     50750 non-null  int64              \n",
      " 9   reviewRankingScore              50738 non-null  float64            \n",
      " 10  writerMemberId                  50750 non-null  object             \n",
      " 11  writerMemberIdNo                50750 non-null  object             \n",
      " 12  writerMemberNo                  50750 non-null  int64              \n",
      " 13  writerMemberProfileImageUrl     50750 non-null  object             \n",
      " 14  checkoutMerchantNo              50750 non-null  int64              \n",
      " 15  checkoutMerchantId              50750 non-null  object             \n",
      " 16  channelId                       50750 non-null  int64              \n",
      " 17  channelServiceType              50750 non-null  object             \n",
      " 18  orderNo                         50750 non-null  object             \n",
      " 19  productOrderNo                  50750 non-null  object             \n",
      " 20  productNo                       50750 non-null  int64              \n",
      " 21  productName                     50750 non-null  object             \n",
      " 22  productOptionContent            50750 non-null  object             \n",
      " 23  largeCategorizeCategoryId       50750 non-null  int64              \n",
      " 24  middleCategorizeCategoryId      50750 non-null  int64              \n",
      " 25  smallCategorizeCategoryId       50750 non-null  int64              \n",
      " 26  detailCategorizeCategoryId      50750 non-null  int64              \n",
      " 27  productUrl                      50750 non-null  object             \n",
      " 28  originProductNo                 50750 non-null  int64              \n",
      " 29  eventTitle                      50750 non-null  object             \n",
      " 30  reviewEvaluationValueSeqs       27776 non-null  object             \n",
      " 31  writerMemberMaskedId            50750 non-null  object             \n",
      " 32  profileImageSourceType          50750 non-null  object             \n",
      " 33  reviewAttaches                  50750 non-null  object             \n",
      " 34  repThumbnailAttach              11175 non-null  object             \n",
      " 35  repThumbnailTagNameDescription  50750 non-null  object             \n",
      " 36  merchantNo                      50750 non-null  object             \n",
      " 37  merchantName                    50750 non-null  object             \n",
      " 38  isMyReview                      50750 non-null  bool               \n",
      " 39  reviewTopics                    14813 non-null  object             \n",
      " 40  parentReviewSeq                 3415 non-null   float64            \n",
      " 41  helpCount                       1107 non-null   float64            \n",
      " 42  modifyDate                      1298 non-null   object             \n",
      " 43  reviewCommentIds                189 non-null    object             \n",
      " 44  reviewComments                  189 non-null    object             \n",
      " 45  reviewInspectionPolicyReason    14 non-null     object             \n",
      " 46  bestReview                      3 non-null      float64            \n",
      " 47  bestReviewSelectDate            1 non-null      object             \n",
      "dtypes: bool(1), datetime64[ns, UTC](1), float64(5), int64(11), object(30)\n",
      "memory usage: 18.6+ MB\n"
     ]
    }
   ],
   "source": [
    "df.info()"
   ],
   "metadata": {
    "collapsed": false,
    "pycharm": {
     "name": "#%%\n"
    }
   }
  },
  {
   "cell_type": "code",
   "execution_count": 5,
   "outputs": [
    {
     "data": {
      "text/plain": "Index(['id', 'reviewServiceType', 'reviewType', 'reviewContentClassType',\n       'reviewContent', 'createDate', 'reviewDisplayStatusType', 'repurchase',\n       'reviewScore', 'reviewRankingScore', 'writerMemberId',\n       'writerMemberIdNo', 'writerMemberNo', 'writerMemberProfileImageUrl',\n       'checkoutMerchantNo', 'checkoutMerchantId', 'channelId',\n       'channelServiceType', 'orderNo', 'productOrderNo', 'productNo',\n       'productName', 'productOptionContent', 'largeCategorizeCategoryId',\n       'middleCategorizeCategoryId', 'smallCategorizeCategoryId',\n       'detailCategorizeCategoryId', 'productUrl', 'originProductNo',\n       'eventTitle', 'reviewEvaluationValueSeqs', 'writerMemberMaskedId',\n       'profileImageSourceType', 'reviewAttaches', 'repThumbnailAttach',\n       'repThumbnailTagNameDescription', 'merchantNo', 'merchantName',\n       'isMyReview', 'reviewTopics', 'parentReviewSeq', 'helpCount',\n       'modifyDate', 'reviewCommentIds', 'reviewComments',\n       'reviewInspectionPolicyReason', 'bestReview', 'bestReviewSelectDate'],\n      dtype='object')"
     },
     "execution_count": 5,
     "metadata": {},
     "output_type": "execute_result"
    }
   ],
   "source": [
    "df.describe()\n",
    "df.columns"
   ],
   "metadata": {
    "collapsed": false,
    "pycharm": {
     "name": "#%%\n"
    }
   }
  },
  {
   "cell_type": "code",
   "execution_count": 52,
   "outputs": [
    {
     "data": {
      "text/plain": "                                     id  repurchase  reviewScore  \\\ncreateDate                                                         \n2015-03-13 00:00:00+00:00  1.402860e+08         NaN     5.000000   \n2015-03-14 00:00:00+00:00           NaN         NaN          NaN   \n2015-03-15 00:00:00+00:00           NaN         NaN          NaN   \n2015-03-16 00:00:00+00:00           NaN         NaN          NaN   \n2015-03-17 00:00:00+00:00           NaN         NaN          NaN   \n...                                 ...         ...          ...   \n2021-04-11 00:00:00+00:00  3.151962e+09    0.081081     4.729730   \n2021-04-12 00:00:00+00:00  3.152580e+09    0.020408     4.591837   \n2021-04-13 00:00:00+00:00  3.153281e+09    0.038462     4.673077   \n2021-04-14 00:00:00+00:00  3.154065e+09    0.108696     4.739130   \n2021-04-15 00:00:00+00:00  3.154622e+09    0.125000     4.875000   \n\n                           reviewRankingScore  writerMemberNo  \\\ncreateDate                                                      \n2015-03-13 00:00:00+00:00          -90.684944             0.0   \n2015-03-14 00:00:00+00:00                 NaN             NaN   \n2015-03-15 00:00:00+00:00                 NaN             NaN   \n2015-03-16 00:00:00+00:00                 NaN             NaN   \n2015-03-17 00:00:00+00:00                 NaN             NaN   \n...                                       ...             ...   \n2021-04-11 00:00:00+00:00          -74.263347             0.0   \n2021-04-12 00:00:00+00:00          -74.255329             0.0   \n2021-04-13 00:00:00+00:00          -74.217018             0.0   \n2021-04-14 00:00:00+00:00          -74.242856             0.0   \n2021-04-15 00:00:00+00:00          -74.273766             0.0   \n\n                           checkoutMerchantNo    channelId    productNo  \\\ncreateDate                                                                \n2015-03-13 00:00:00+00:00                 0.0  500071344.0  280423930.0   \n2015-03-14 00:00:00+00:00                 NaN          NaN          NaN   \n2015-03-15 00:00:00+00:00                 NaN          NaN          NaN   \n2015-03-16 00:00:00+00:00                 NaN          NaN          NaN   \n2015-03-17 00:00:00+00:00                 NaN          NaN          NaN   \n...                                       ...          ...          ...   \n2021-04-11 00:00:00+00:00                 0.0  500071344.0  280423930.0   \n2021-04-12 00:00:00+00:00                 0.0  500071344.0  280423930.0   \n2021-04-13 00:00:00+00:00                 0.0  500071344.0  280423930.0   \n2021-04-14 00:00:00+00:00                 0.0  500071344.0  280423930.0   \n2021-04-15 00:00:00+00:00                 0.0  500071344.0  280423930.0   \n\n                           largeCategorizeCategoryId  \\\ncreateDate                                             \n2015-03-13 00:00:00+00:00                 50000004.0   \n2015-03-14 00:00:00+00:00                        NaN   \n2015-03-15 00:00:00+00:00                        NaN   \n2015-03-16 00:00:00+00:00                        NaN   \n2015-03-17 00:00:00+00:00                        NaN   \n...                                              ...   \n2021-04-11 00:00:00+00:00                 50000004.0   \n2021-04-12 00:00:00+00:00                 50000004.0   \n2021-04-13 00:00:00+00:00                 50000004.0   \n2021-04-14 00:00:00+00:00                 50000004.0   \n2021-04-15 00:00:00+00:00                 50000004.0   \n\n                           middleCategorizeCategoryId  \\\ncreateDate                                              \n2015-03-13 00:00:00+00:00                  50000105.0   \n2015-03-14 00:00:00+00:00                         NaN   \n2015-03-15 00:00:00+00:00                         NaN   \n2015-03-16 00:00:00+00:00                         NaN   \n2015-03-17 00:00:00+00:00                         NaN   \n...                                               ...   \n2021-04-11 00:00:00+00:00                  50000105.0   \n2021-04-12 00:00:00+00:00                  50000105.0   \n2021-04-13 00:00:00+00:00                  50000105.0   \n2021-04-14 00:00:00+00:00                  50000105.0   \n2021-04-15 00:00:00+00:00                  50000105.0   \n\n                           smallCategorizeCategoryId  \\\ncreateDate                                             \n2015-03-13 00:00:00+00:00                 50001239.0   \n2015-03-14 00:00:00+00:00                        NaN   \n2015-03-15 00:00:00+00:00                        NaN   \n2015-03-16 00:00:00+00:00                        NaN   \n2015-03-17 00:00:00+00:00                        NaN   \n...                                              ...   \n2021-04-11 00:00:00+00:00                 50001240.0   \n2021-04-12 00:00:00+00:00                 50001240.0   \n2021-04-13 00:00:00+00:00                 50001240.0   \n2021-04-14 00:00:00+00:00                 50001240.0   \n2021-04-15 00:00:00+00:00                 50001240.0   \n\n                           detailCategorizeCategoryId  originProductNo  \\\ncreateDate                                                               \n2015-03-13 00:00:00+00:00                  50003683.0      280423930.0   \n2015-03-14 00:00:00+00:00                         NaN              NaN   \n2015-03-15 00:00:00+00:00                         NaN              NaN   \n2015-03-16 00:00:00+00:00                         NaN              NaN   \n2015-03-17 00:00:00+00:00                         NaN              NaN   \n...                                               ...              ...   \n2021-04-11 00:00:00+00:00                  50003299.0      280423930.0   \n2021-04-12 00:00:00+00:00                  50003299.0      280423930.0   \n2021-04-13 00:00:00+00:00                  50003299.0      280423930.0   \n2021-04-14 00:00:00+00:00                  50003299.0      280423930.0   \n2021-04-15 00:00:00+00:00                  50003299.0      280423930.0   \n\n                           isMyReview  parentReviewSeq  helpCount  bestReview  \ncreateDate                                                                     \n2015-03-13 00:00:00+00:00         0.0              NaN        NaN         NaN  \n2015-03-14 00:00:00+00:00         NaN              NaN        NaN         NaN  \n2015-03-15 00:00:00+00:00         NaN              NaN        NaN         NaN  \n2015-03-16 00:00:00+00:00         NaN              NaN        NaN         NaN  \n2015-03-17 00:00:00+00:00         NaN              NaN        NaN         NaN  \n...                               ...              ...        ...         ...  \n2021-04-11 00:00:00+00:00         0.0     3.129197e+09        NaN         NaN  \n2021-04-12 00:00:00+00:00         0.0     3.114076e+09        NaN         NaN  \n2021-04-13 00:00:00+00:00         0.0     3.118817e+09        2.0         NaN  \n2021-04-14 00:00:00+00:00         0.0     3.126550e+09        NaN         NaN  \n2021-04-15 00:00:00+00:00         0.0     3.133970e+09        NaN         NaN  \n\n[2226 rows x 17 columns]",
      "text/html": "<div>\n<style scoped>\n    .dataframe tbody tr th:only-of-type {\n        vertical-align: middle;\n    }\n\n    .dataframe tbody tr th {\n        vertical-align: top;\n    }\n\n    .dataframe thead th {\n        text-align: right;\n    }\n</style>\n<table border=\"1\" class=\"dataframe\">\n  <thead>\n    <tr style=\"text-align: right;\">\n      <th></th>\n      <th>id</th>\n      <th>repurchase</th>\n      <th>reviewScore</th>\n      <th>reviewRankingScore</th>\n      <th>writerMemberNo</th>\n      <th>checkoutMerchantNo</th>\n      <th>channelId</th>\n      <th>productNo</th>\n      <th>largeCategorizeCategoryId</th>\n      <th>middleCategorizeCategoryId</th>\n      <th>smallCategorizeCategoryId</th>\n      <th>detailCategorizeCategoryId</th>\n      <th>originProductNo</th>\n      <th>isMyReview</th>\n      <th>parentReviewSeq</th>\n      <th>helpCount</th>\n      <th>bestReview</th>\n    </tr>\n    <tr>\n      <th>createDate</th>\n      <th></th>\n      <th></th>\n      <th></th>\n      <th></th>\n      <th></th>\n      <th></th>\n      <th></th>\n      <th></th>\n      <th></th>\n      <th></th>\n      <th></th>\n      <th></th>\n      <th></th>\n      <th></th>\n      <th></th>\n      <th></th>\n      <th></th>\n    </tr>\n  </thead>\n  <tbody>\n    <tr>\n      <th>2015-03-13 00:00:00+00:00</th>\n      <td>1.402860e+08</td>\n      <td>NaN</td>\n      <td>5.000000</td>\n      <td>-90.684944</td>\n      <td>0.0</td>\n      <td>0.0</td>\n      <td>500071344.0</td>\n      <td>280423930.0</td>\n      <td>50000004.0</td>\n      <td>50000105.0</td>\n      <td>50001239.0</td>\n      <td>50003683.0</td>\n      <td>280423930.0</td>\n      <td>0.0</td>\n      <td>NaN</td>\n      <td>NaN</td>\n      <td>NaN</td>\n    </tr>\n    <tr>\n      <th>2015-03-14 00:00:00+00:00</th>\n      <td>NaN</td>\n      <td>NaN</td>\n      <td>NaN</td>\n      <td>NaN</td>\n      <td>NaN</td>\n      <td>NaN</td>\n      <td>NaN</td>\n      <td>NaN</td>\n      <td>NaN</td>\n      <td>NaN</td>\n      <td>NaN</td>\n      <td>NaN</td>\n      <td>NaN</td>\n      <td>NaN</td>\n      <td>NaN</td>\n      <td>NaN</td>\n      <td>NaN</td>\n    </tr>\n    <tr>\n      <th>2015-03-15 00:00:00+00:00</th>\n      <td>NaN</td>\n      <td>NaN</td>\n      <td>NaN</td>\n      <td>NaN</td>\n      <td>NaN</td>\n      <td>NaN</td>\n      <td>NaN</td>\n      <td>NaN</td>\n      <td>NaN</td>\n      <td>NaN</td>\n      <td>NaN</td>\n      <td>NaN</td>\n      <td>NaN</td>\n      <td>NaN</td>\n      <td>NaN</td>\n      <td>NaN</td>\n      <td>NaN</td>\n    </tr>\n    <tr>\n      <th>2015-03-16 00:00:00+00:00</th>\n      <td>NaN</td>\n      <td>NaN</td>\n      <td>NaN</td>\n      <td>NaN</td>\n      <td>NaN</td>\n      <td>NaN</td>\n      <td>NaN</td>\n      <td>NaN</td>\n      <td>NaN</td>\n      <td>NaN</td>\n      <td>NaN</td>\n      <td>NaN</td>\n      <td>NaN</td>\n      <td>NaN</td>\n      <td>NaN</td>\n      <td>NaN</td>\n      <td>NaN</td>\n    </tr>\n    <tr>\n      <th>2015-03-17 00:00:00+00:00</th>\n      <td>NaN</td>\n      <td>NaN</td>\n      <td>NaN</td>\n      <td>NaN</td>\n      <td>NaN</td>\n      <td>NaN</td>\n      <td>NaN</td>\n      <td>NaN</td>\n      <td>NaN</td>\n      <td>NaN</td>\n      <td>NaN</td>\n      <td>NaN</td>\n      <td>NaN</td>\n      <td>NaN</td>\n      <td>NaN</td>\n      <td>NaN</td>\n      <td>NaN</td>\n    </tr>\n    <tr>\n      <th>...</th>\n      <td>...</td>\n      <td>...</td>\n      <td>...</td>\n      <td>...</td>\n      <td>...</td>\n      <td>...</td>\n      <td>...</td>\n      <td>...</td>\n      <td>...</td>\n      <td>...</td>\n      <td>...</td>\n      <td>...</td>\n      <td>...</td>\n      <td>...</td>\n      <td>...</td>\n      <td>...</td>\n      <td>...</td>\n    </tr>\n    <tr>\n      <th>2021-04-11 00:00:00+00:00</th>\n      <td>3.151962e+09</td>\n      <td>0.081081</td>\n      <td>4.729730</td>\n      <td>-74.263347</td>\n      <td>0.0</td>\n      <td>0.0</td>\n      <td>500071344.0</td>\n      <td>280423930.0</td>\n      <td>50000004.0</td>\n      <td>50000105.0</td>\n      <td>50001240.0</td>\n      <td>50003299.0</td>\n      <td>280423930.0</td>\n      <td>0.0</td>\n      <td>3.129197e+09</td>\n      <td>NaN</td>\n      <td>NaN</td>\n    </tr>\n    <tr>\n      <th>2021-04-12 00:00:00+00:00</th>\n      <td>3.152580e+09</td>\n      <td>0.020408</td>\n      <td>4.591837</td>\n      <td>-74.255329</td>\n      <td>0.0</td>\n      <td>0.0</td>\n      <td>500071344.0</td>\n      <td>280423930.0</td>\n      <td>50000004.0</td>\n      <td>50000105.0</td>\n      <td>50001240.0</td>\n      <td>50003299.0</td>\n      <td>280423930.0</td>\n      <td>0.0</td>\n      <td>3.114076e+09</td>\n      <td>NaN</td>\n      <td>NaN</td>\n    </tr>\n    <tr>\n      <th>2021-04-13 00:00:00+00:00</th>\n      <td>3.153281e+09</td>\n      <td>0.038462</td>\n      <td>4.673077</td>\n      <td>-74.217018</td>\n      <td>0.0</td>\n      <td>0.0</td>\n      <td>500071344.0</td>\n      <td>280423930.0</td>\n      <td>50000004.0</td>\n      <td>50000105.0</td>\n      <td>50001240.0</td>\n      <td>50003299.0</td>\n      <td>280423930.0</td>\n      <td>0.0</td>\n      <td>3.118817e+09</td>\n      <td>2.0</td>\n      <td>NaN</td>\n    </tr>\n    <tr>\n      <th>2021-04-14 00:00:00+00:00</th>\n      <td>3.154065e+09</td>\n      <td>0.108696</td>\n      <td>4.739130</td>\n      <td>-74.242856</td>\n      <td>0.0</td>\n      <td>0.0</td>\n      <td>500071344.0</td>\n      <td>280423930.0</td>\n      <td>50000004.0</td>\n      <td>50000105.0</td>\n      <td>50001240.0</td>\n      <td>50003299.0</td>\n      <td>280423930.0</td>\n      <td>0.0</td>\n      <td>3.126550e+09</td>\n      <td>NaN</td>\n      <td>NaN</td>\n    </tr>\n    <tr>\n      <th>2021-04-15 00:00:00+00:00</th>\n      <td>3.154622e+09</td>\n      <td>0.125000</td>\n      <td>4.875000</td>\n      <td>-74.273766</td>\n      <td>0.0</td>\n      <td>0.0</td>\n      <td>500071344.0</td>\n      <td>280423930.0</td>\n      <td>50000004.0</td>\n      <td>50000105.0</td>\n      <td>50001240.0</td>\n      <td>50003299.0</td>\n      <td>280423930.0</td>\n      <td>0.0</td>\n      <td>3.133970e+09</td>\n      <td>NaN</td>\n      <td>NaN</td>\n    </tr>\n  </tbody>\n</table>\n<p>2226 rows × 17 columns</p>\n</div>"
     },
     "execution_count": 52,
     "metadata": {},
     "output_type": "execute_result"
    }
   ],
   "source": [],
   "metadata": {
    "collapsed": false,
    "pycharm": {
     "name": "#%%\n"
    }
   }
  },
  {
   "cell_type": "markdown",
   "source": [
    "### 데이터 전처리\n",
    "주로 나누어서 그 7일 동안 상품별로 몇개의 리뷰가 달렸는지부터\n",
    "\n",
    "\n",
    "reviewScore:1~5\n",
    "\n",
    "productOptionContent:옵션\n",
    "\n"
   ],
   "metadata": {
    "collapsed": false,
    "pycharm": {
     "name": "#%% md\n"
    }
   }
  },
  {
   "cell_type": "code",
   "execution_count": 50,
   "outputs": [
    {
     "data": {
      "text/plain": "id\n752808213   2019-11-07 10:06:46+00:00\n752801857   2019-11-07 09:53:50+00:00\n752796423   2019-11-07 09:42:38+00:00\n752790791   2019-11-07 09:30:48+00:00\n752788406   2019-11-07 09:25:51+00:00\n                       ...           \n879823199   2020-06-20 02:38:29+00:00\n879788303   2020-06-20 01:33:35+00:00\n879768831   2020-06-20 00:53:30+00:00\n879757645   2020-06-20 00:28:27+00:00\n879728447   2020-06-19 23:06:02+00:00\nName: createDate, Length: 50750, dtype: datetime64[ns, UTC]"
     },
     "execution_count": 50,
     "metadata": {},
     "output_type": "execute_result"
    }
   ],
   "source": [
    "# type(df['createDate'])\n"
   ],
   "metadata": {
    "collapsed": false,
    "pycharm": {
     "name": "#%%\n"
    }
   }
  },
  {
   "cell_type": "markdown",
   "source": [
    "### 정규화"
   ],
   "metadata": {
    "collapsed": false,
    "pycharm": {
     "name": "#%% md\n"
    }
   }
  },
  {
   "cell_type": "code",
   "execution_count": 55,
   "outputs": [
    {
     "data": {
      "text/plain": "                           id  reviewServiceType  reviewType  \\\ncreateDate                                                     \n2015-03-13 00:00:00+00:00   1                  1           1   \n2015-03-14 00:00:00+00:00   0                  0           0   \n2015-03-15 00:00:00+00:00   0                  0           0   \n2015-03-16 00:00:00+00:00   0                  0           0   \n2015-03-17 00:00:00+00:00   0                  0           0   \n...                        ..                ...         ...   \n2021-04-11 00:00:00+00:00  37                 37          37   \n2021-04-12 00:00:00+00:00  49                 49          49   \n2021-04-13 00:00:00+00:00  52                 52          52   \n2021-04-14 00:00:00+00:00  46                 46          46   \n2021-04-15 00:00:00+00:00   8                  8           8   \n\n                           reviewContentClassType  reviewContent  \\\ncreateDate                                                         \n2015-03-13 00:00:00+00:00                       1              1   \n2015-03-14 00:00:00+00:00                       0              0   \n2015-03-15 00:00:00+00:00                       0              0   \n2015-03-16 00:00:00+00:00                       0              0   \n2015-03-17 00:00:00+00:00                       0              0   \n...                                           ...            ...   \n2021-04-11 00:00:00+00:00                      37             37   \n2021-04-12 00:00:00+00:00                      49             49   \n2021-04-13 00:00:00+00:00                      52             52   \n2021-04-14 00:00:00+00:00                      46             46   \n2021-04-15 00:00:00+00:00                       8              8   \n\n                           reviewDisplayStatusType  repurchase  reviewScore  \\\ncreateDate                                                                    \n2015-03-13 00:00:00+00:00                        1           0            1   \n2015-03-14 00:00:00+00:00                        0           0            0   \n2015-03-15 00:00:00+00:00                        0           0            0   \n2015-03-16 00:00:00+00:00                        0           0            0   \n2015-03-17 00:00:00+00:00                        0           0            0   \n...                                            ...         ...          ...   \n2021-04-11 00:00:00+00:00                       37          37           37   \n2021-04-12 00:00:00+00:00                       49          49           49   \n2021-04-13 00:00:00+00:00                       52          52           52   \n2021-04-14 00:00:00+00:00                       46          46           46   \n2021-04-15 00:00:00+00:00                        8           8            8   \n\n                           reviewRankingScore  writerMemberId  ...  \\\ncreateDate                                                     ...   \n2015-03-13 00:00:00+00:00                   1               1  ...   \n2015-03-14 00:00:00+00:00                   0               0  ...   \n2015-03-15 00:00:00+00:00                   0               0  ...   \n2015-03-16 00:00:00+00:00                   0               0  ...   \n2015-03-17 00:00:00+00:00                   0               0  ...   \n...                                       ...             ...  ...   \n2021-04-11 00:00:00+00:00                  37              37  ...   \n2021-04-12 00:00:00+00:00                  49              49  ...   \n2021-04-13 00:00:00+00:00                  52              52  ...   \n2021-04-14 00:00:00+00:00                  46              46  ...   \n2021-04-15 00:00:00+00:00                   8               8  ...   \n\n                           isMyReview  reviewTopics  parentReviewSeq  \\\ncreateDate                                                             \n2015-03-13 00:00:00+00:00           1             0                0   \n2015-03-14 00:00:00+00:00           0             0                0   \n2015-03-15 00:00:00+00:00           0             0                0   \n2015-03-16 00:00:00+00:00           0             0                0   \n2015-03-17 00:00:00+00:00           0             0                0   \n...                               ...           ...              ...   \n2021-04-11 00:00:00+00:00          37            14                1   \n2021-04-12 00:00:00+00:00          49            16                6   \n2021-04-13 00:00:00+00:00          52            21                8   \n2021-04-14 00:00:00+00:00          46            24                9   \n2021-04-15 00:00:00+00:00           8             3                1   \n\n                           helpCount  modifyDate  reviewCommentIds  \\\ncreateDate                                                           \n2015-03-13 00:00:00+00:00          0           0                 0   \n2015-03-14 00:00:00+00:00          0           0                 0   \n2015-03-15 00:00:00+00:00          0           0                 0   \n2015-03-16 00:00:00+00:00          0           0                 0   \n2015-03-17 00:00:00+00:00          0           0                 0   \n...                              ...         ...               ...   \n2021-04-11 00:00:00+00:00          0           0                 0   \n2021-04-12 00:00:00+00:00          0           0                 0   \n2021-04-13 00:00:00+00:00          3           0                 0   \n2021-04-14 00:00:00+00:00          0           0                 0   \n2021-04-15 00:00:00+00:00          0           0                 0   \n\n                           reviewComments  reviewInspectionPolicyReason  \\\ncreateDate                                                                \n2015-03-13 00:00:00+00:00               0                             0   \n2015-03-14 00:00:00+00:00               0                             0   \n2015-03-15 00:00:00+00:00               0                             0   \n2015-03-16 00:00:00+00:00               0                             0   \n2015-03-17 00:00:00+00:00               0                             0   \n...                                   ...                           ...   \n2021-04-11 00:00:00+00:00               0                             0   \n2021-04-12 00:00:00+00:00               0                             0   \n2021-04-13 00:00:00+00:00               0                             0   \n2021-04-14 00:00:00+00:00               0                             0   \n2021-04-15 00:00:00+00:00               0                             0   \n\n                           bestReview  bestReviewSelectDate  \ncreateDate                                                   \n2015-03-13 00:00:00+00:00           0                     0  \n2015-03-14 00:00:00+00:00           0                     0  \n2015-03-15 00:00:00+00:00           0                     0  \n2015-03-16 00:00:00+00:00           0                     0  \n2015-03-17 00:00:00+00:00           0                     0  \n...                               ...                   ...  \n2021-04-11 00:00:00+00:00           0                     0  \n2021-04-12 00:00:00+00:00           0                     0  \n2021-04-13 00:00:00+00:00           0                     0  \n2021-04-14 00:00:00+00:00           0                     0  \n2021-04-15 00:00:00+00:00           0                     0  \n\n[2226 rows x 47 columns]",
      "text/html": "<div>\n<style scoped>\n    .dataframe tbody tr th:only-of-type {\n        vertical-align: middle;\n    }\n\n    .dataframe tbody tr th {\n        vertical-align: top;\n    }\n\n    .dataframe thead th {\n        text-align: right;\n    }\n</style>\n<table border=\"1\" class=\"dataframe\">\n  <thead>\n    <tr style=\"text-align: right;\">\n      <th></th>\n      <th>id</th>\n      <th>reviewServiceType</th>\n      <th>reviewType</th>\n      <th>reviewContentClassType</th>\n      <th>reviewContent</th>\n      <th>reviewDisplayStatusType</th>\n      <th>repurchase</th>\n      <th>reviewScore</th>\n      <th>reviewRankingScore</th>\n      <th>writerMemberId</th>\n      <th>...</th>\n      <th>isMyReview</th>\n      <th>reviewTopics</th>\n      <th>parentReviewSeq</th>\n      <th>helpCount</th>\n      <th>modifyDate</th>\n      <th>reviewCommentIds</th>\n      <th>reviewComments</th>\n      <th>reviewInspectionPolicyReason</th>\n      <th>bestReview</th>\n      <th>bestReviewSelectDate</th>\n    </tr>\n    <tr>\n      <th>createDate</th>\n      <th></th>\n      <th></th>\n      <th></th>\n      <th></th>\n      <th></th>\n      <th></th>\n      <th></th>\n      <th></th>\n      <th></th>\n      <th></th>\n      <th></th>\n      <th></th>\n      <th></th>\n      <th></th>\n      <th></th>\n      <th></th>\n      <th></th>\n      <th></th>\n      <th></th>\n      <th></th>\n      <th></th>\n    </tr>\n  </thead>\n  <tbody>\n    <tr>\n      <th>2015-03-13 00:00:00+00:00</th>\n      <td>1</td>\n      <td>1</td>\n      <td>1</td>\n      <td>1</td>\n      <td>1</td>\n      <td>1</td>\n      <td>0</td>\n      <td>1</td>\n      <td>1</td>\n      <td>1</td>\n      <td>...</td>\n      <td>1</td>\n      <td>0</td>\n      <td>0</td>\n      <td>0</td>\n      <td>0</td>\n      <td>0</td>\n      <td>0</td>\n      <td>0</td>\n      <td>0</td>\n      <td>0</td>\n    </tr>\n    <tr>\n      <th>2015-03-14 00:00:00+00:00</th>\n      <td>0</td>\n      <td>0</td>\n      <td>0</td>\n      <td>0</td>\n      <td>0</td>\n      <td>0</td>\n      <td>0</td>\n      <td>0</td>\n      <td>0</td>\n      <td>0</td>\n      <td>...</td>\n      <td>0</td>\n      <td>0</td>\n      <td>0</td>\n      <td>0</td>\n      <td>0</td>\n      <td>0</td>\n      <td>0</td>\n      <td>0</td>\n      <td>0</td>\n      <td>0</td>\n    </tr>\n    <tr>\n      <th>2015-03-15 00:00:00+00:00</th>\n      <td>0</td>\n      <td>0</td>\n      <td>0</td>\n      <td>0</td>\n      <td>0</td>\n      <td>0</td>\n      <td>0</td>\n      <td>0</td>\n      <td>0</td>\n      <td>0</td>\n      <td>...</td>\n      <td>0</td>\n      <td>0</td>\n      <td>0</td>\n      <td>0</td>\n      <td>0</td>\n      <td>0</td>\n      <td>0</td>\n      <td>0</td>\n      <td>0</td>\n      <td>0</td>\n    </tr>\n    <tr>\n      <th>2015-03-16 00:00:00+00:00</th>\n      <td>0</td>\n      <td>0</td>\n      <td>0</td>\n      <td>0</td>\n      <td>0</td>\n      <td>0</td>\n      <td>0</td>\n      <td>0</td>\n      <td>0</td>\n      <td>0</td>\n      <td>...</td>\n      <td>0</td>\n      <td>0</td>\n      <td>0</td>\n      <td>0</td>\n      <td>0</td>\n      <td>0</td>\n      <td>0</td>\n      <td>0</td>\n      <td>0</td>\n      <td>0</td>\n    </tr>\n    <tr>\n      <th>2015-03-17 00:00:00+00:00</th>\n      <td>0</td>\n      <td>0</td>\n      <td>0</td>\n      <td>0</td>\n      <td>0</td>\n      <td>0</td>\n      <td>0</td>\n      <td>0</td>\n      <td>0</td>\n      <td>0</td>\n      <td>...</td>\n      <td>0</td>\n      <td>0</td>\n      <td>0</td>\n      <td>0</td>\n      <td>0</td>\n      <td>0</td>\n      <td>0</td>\n      <td>0</td>\n      <td>0</td>\n      <td>0</td>\n    </tr>\n    <tr>\n      <th>...</th>\n      <td>...</td>\n      <td>...</td>\n      <td>...</td>\n      <td>...</td>\n      <td>...</td>\n      <td>...</td>\n      <td>...</td>\n      <td>...</td>\n      <td>...</td>\n      <td>...</td>\n      <td>...</td>\n      <td>...</td>\n      <td>...</td>\n      <td>...</td>\n      <td>...</td>\n      <td>...</td>\n      <td>...</td>\n      <td>...</td>\n      <td>...</td>\n      <td>...</td>\n      <td>...</td>\n    </tr>\n    <tr>\n      <th>2021-04-11 00:00:00+00:00</th>\n      <td>37</td>\n      <td>37</td>\n      <td>37</td>\n      <td>37</td>\n      <td>37</td>\n      <td>37</td>\n      <td>37</td>\n      <td>37</td>\n      <td>37</td>\n      <td>37</td>\n      <td>...</td>\n      <td>37</td>\n      <td>14</td>\n      <td>1</td>\n      <td>0</td>\n      <td>0</td>\n      <td>0</td>\n      <td>0</td>\n      <td>0</td>\n      <td>0</td>\n      <td>0</td>\n    </tr>\n    <tr>\n      <th>2021-04-12 00:00:00+00:00</th>\n      <td>49</td>\n      <td>49</td>\n      <td>49</td>\n      <td>49</td>\n      <td>49</td>\n      <td>49</td>\n      <td>49</td>\n      <td>49</td>\n      <td>49</td>\n      <td>49</td>\n      <td>...</td>\n      <td>49</td>\n      <td>16</td>\n      <td>6</td>\n      <td>0</td>\n      <td>0</td>\n      <td>0</td>\n      <td>0</td>\n      <td>0</td>\n      <td>0</td>\n      <td>0</td>\n    </tr>\n    <tr>\n      <th>2021-04-13 00:00:00+00:00</th>\n      <td>52</td>\n      <td>52</td>\n      <td>52</td>\n      <td>52</td>\n      <td>52</td>\n      <td>52</td>\n      <td>52</td>\n      <td>52</td>\n      <td>52</td>\n      <td>52</td>\n      <td>...</td>\n      <td>52</td>\n      <td>21</td>\n      <td>8</td>\n      <td>3</td>\n      <td>0</td>\n      <td>0</td>\n      <td>0</td>\n      <td>0</td>\n      <td>0</td>\n      <td>0</td>\n    </tr>\n    <tr>\n      <th>2021-04-14 00:00:00+00:00</th>\n      <td>46</td>\n      <td>46</td>\n      <td>46</td>\n      <td>46</td>\n      <td>46</td>\n      <td>46</td>\n      <td>46</td>\n      <td>46</td>\n      <td>46</td>\n      <td>46</td>\n      <td>...</td>\n      <td>46</td>\n      <td>24</td>\n      <td>9</td>\n      <td>0</td>\n      <td>0</td>\n      <td>0</td>\n      <td>0</td>\n      <td>0</td>\n      <td>0</td>\n      <td>0</td>\n    </tr>\n    <tr>\n      <th>2021-04-15 00:00:00+00:00</th>\n      <td>8</td>\n      <td>8</td>\n      <td>8</td>\n      <td>8</td>\n      <td>8</td>\n      <td>8</td>\n      <td>8</td>\n      <td>8</td>\n      <td>8</td>\n      <td>8</td>\n      <td>...</td>\n      <td>8</td>\n      <td>3</td>\n      <td>1</td>\n      <td>0</td>\n      <td>0</td>\n      <td>0</td>\n      <td>0</td>\n      <td>0</td>\n      <td>0</td>\n      <td>0</td>\n    </tr>\n  </tbody>\n</table>\n<p>2226 rows × 47 columns</p>\n</div>"
     },
     "execution_count": 55,
     "metadata": {},
     "output_type": "execute_result"
    }
   ],
   "source": [
    "df.set_index('createDate').groupby(pd.Grouper(freq='D')).count()\n"
   ],
   "metadata": {
    "collapsed": false,
    "pycharm": {
     "name": "#%%\n"
    }
   }
  }
 ],
 "metadata": {
  "kernelspec": {
   "name": "pycharm-b5e7a0e5",
   "language": "python",
   "display_name": "PyCharm (python_machine_learning)"
  },
  "language_info": {
   "codemirror_mode": {
    "name": "ipython",
    "version": 2
   },
   "file_extension": ".py",
   "mimetype": "text/x-python",
   "name": "python",
   "nbconvert_exporter": "python",
   "pygments_lexer": "ipython2",
   "version": "2.7.6"
  }
 },
 "nbformat": 4,
 "nbformat_minor": 0
}
{
 "cells": [
  {
   "cell_type": "code",
   "execution_count": 23,
   "metadata": {
    "collapsed": true,
    "pycharm": {
     "name": "#%%\n"
    }
   },
   "outputs": [],
   "source": [
    "import tensorflow as tf\n",
    "import matplotlib.pyplot as plt\n",
    "import numpy as np\n",
    "from deep_learning_from_scratch.dataset.mnist import load_mnist"
   ]
  },
  {
   "cell_type": "code",
   "execution_count": 21,
   "outputs": [],
   "source": [
    "def sigmoid(x):\n",
    "    return 1 / (1 + np.exp(-x))\n",
    "\n",
    "def lelu(x):\n",
    "    return np.maximum(0, x)\n",
    "\n",
    "def identify_function(x):\n",
    "    return x\n",
    "\n",
    "def softmax(a):\n",
    "    c = np.max(a)\n",
    "    exp_a = np.exp(a - c)\n",
    "    sum_exp_a = np.sum(exp_a)\n",
    "    y = exp_a / sum_exp_a\n",
    "    return y"
   ],
   "metadata": {
    "collapsed": false,
    "pycharm": {
     "name": "#%%\n"
    }
   }
  },
  {
   "cell_type": "code",
   "execution_count": 22,
   "outputs": [
    {
     "data": {
      "text/plain": "<Figure size 432x288 with 1 Axes>",
      "image/png": "[encoded data removed]"
     },
     "metadata": {
      "needs_background": "light"
     },
     "output_type": "display_data"
    }
   ],
   "source": [
    "sigmoid(10)\n",
    "\n",
    "x = np.arange(-10.0, 5.0, 0.1)\n",
    "y = softmax(x)\n",
    "plt.plot(x, y)\n",
    "plt.ylim(-0.1, 1.1)\n",
    "plt.show()"
   ],
   "metadata": {
    "collapsed": false,
    "pycharm": {
     "name": "#%%\n"
    }
   }
  },
  {
   "cell_type": "code",
   "execution_count": 13,
   "outputs": [
    {
     "name": "stdout",
     "output_type": "stream",
     "text": [
      "[[0.1 0.3 0.5]\n",
      " [0.2 0.4 0.6]]\n",
      "[0.1 0.2 0.3]\n"
     ]
    },
    {
     "data": {
      "text/plain": "array([0.3, 0.7, 1.1])"
     },
     "execution_count": 13,
     "metadata": {},
     "output_type": "execute_result"
    }
   ],
   "source": [
    "X = np.array([1.0, 0.5])\n",
    "W1 = np.array([[0.1, 0.3, 0.5], [0.2, .4, .6]])\n",
    "B1 = np.array([.1, .2, .3])\n",
    "print(W1)\n",
    "print(B1)\n",
    "\n",
    "# 1x2 * 2x3 + 1x1\n",
    "# input이 2개 1번 입력에 대한 가중치 3개 2번 입력에 대한 가중치 3개\n",
    "# 입력은 1x2로 출력은 1x3형태로 됨\n",
    "A1 = np.dot(X, W1) + B1\n",
    "A1\n"
   ],
   "metadata": {
    "collapsed": false,
    "pycharm": {
     "name": "#%%\n"
    }
   }
  },
  {
   "cell_type": "code",
   "execution_count": 18,
   "outputs": [
    {
     "data": {
      "text/plain": "array([0.31682708, 0.69627909])"
     },
     "execution_count": 18,
     "metadata": {},
     "output_type": "execute_result"
    }
   ],
   "source": [
    "def forward(x):\n",
    "    network = {\n",
    "        'W1':np.array([[.1, .3, .5],\n",
    "                       [.2, .4, .6]]), # 2x3\n",
    "        'b1':np.array([.1, .2, .3]), # 1x3\n",
    "        'W2':np.array([[.1, .4],\n",
    "                       [.2, .5],\n",
    "                       [.3, .6]]), # 3x2\n",
    "        'b2':np.array([.1, .2]),\n",
    "        'W3':np.array([[.1, .3],\n",
    "                       [.2, .4]]), # 2x2\n",
    "        'b3':np.array([.1, .2]),\n",
    "    }\n",
    "\n",
    "    W1, W2, W3 = network['W1'], network['W2'], network['W3']\n",
    "    b1, b2, b3 = network['b1'], network['b2'], network['b3']\n",
    "\n",
    "    a1 = np.dot(x, W1) + b1 # 1x2 * 2x3을 계산합니다.\n",
    "    z1 = sigmoid(a1) # 결과는 1x3 형태로 나옵니다.\n",
    "    a2 = np.dot(z1, W2) + b2 # 1x3 * 3x2를 계산합니다.\n",
    "    z2 = sigmoid(a2) # 결과는 1x2형태로 나옵니다. (입력 형태와 같음)\n",
    "    a3 = np.dot(z2, W3) + b3 # 1x2 * 2x2를 계산 합니다.\n",
    "    y = identify_function(a3) # 결과는 1x2형태로 나옵니다.\n",
    "\n",
    "    return y\n",
    "\n",
    "y = forward(np.array([1, .5]))\n",
    "y"
   ],
   "metadata": {
    "collapsed": false,
    "pycharm": {
     "name": "#%%\n"
    }
   }
  }
 ],
 "metadata": {
  "kernelspec": {
   "display_name": "Python 3",
   "language": "python",
   "name": "python3"
  },
  "language_info": {
   "codemirror_mode": {
    "name": "ipython",
    "version": 2
   },
   "file_extension": ".py",
   "mimetype": "text/x-python",
   "name": "python",
   "nbconvert_exporter": "python",
   "pygments_lexer": "ipython2",
   "version": "2.7.6"
  }
 },
 "nbformat": 4,
 "nbformat_minor": 0
}